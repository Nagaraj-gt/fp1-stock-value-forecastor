{
  "cells": [
    {
      "cell_type": "markdown",
      "metadata": {
        "id": "view-in-github",
        "colab_type": "text"
      },
      "source": [
        "<a href=\"https://colab.research.google.com/github/Nagaraj-gt/fp1-stock-value-forecastor/blob/main/Stock_Predictions_analysis.ipynb\" target=\"_parent\"><img src=\"https://colab.research.google.com/assets/colab-badge.svg\" alt=\"Open In Colab\"/></a>"
      ]
    },
    {
      "cell_type": "markdown",
      "metadata": {
        "id": "EaqLjZQ5IVDn"
      },
      "source": [
        "**SENTIMENT ANALYSIS OF COMPANY NEWS TO PREDICT STOCK VALUE**\n",
        "---\n",
        "\n",
        "# Team Number : 4\n",
        "\n",
        "# Team Members : Ashwini, Madhav, Mrinal , Nagaraj, Sudhanshu "
      ]
    },
    {
      "cell_type": "markdown",
      "metadata": {
        "id": "OaUOgcIPIVDr"
      },
      "source": [
        "## Remark<div class='tocSkip'/>\n",
        "\n",
        "The stock value prediction is performed for Apple Inc. The data source is legitmate news source from,\n",
        "\n",
        "1. Twitter API\n",
        "2. Polygon Stock News API\n",
        "\n",
        "The method used is Sentiment Analysis on the news documents. Its relative impact on price movements are captured."
      ]
    },
    {
      "cell_type": "markdown",
      "metadata": {
        "id": "35aBz_NYIVDr"
      },
      "source": [
        "## Setup<div class='tocSkip'/>\n",
        "\n",
        "This step is intially done to setup notebook to run in dual mode - colab or local"
      ]
    },
    {
      "cell_type": "code",
      "execution_count": 2,
      "metadata": {
        "id": "vcy2Xg-XIVDs",
        "colab": {
          "base_uri": "https://localhost:8080/"
        },
        "outputId": "093237e8-d4e2-4f79-d797-ab2a1b0d0b61"
      },
      "outputs": [
        {
          "output_type": "stream",
          "name": "stdout",
          "text": [
            "Preparing notebook to run on Colab\n",
            "Files will be downloaded to \"/content\".\n",
            "Downloading required files ...\n",
            "!wget -P /content https://github.com/Nagaraj-gt/fp1-stock-value-forecastor/raw/main/settings.py\n",
            "!wget -P /content/data https://github.com/Nagaraj-gt/fp1-stock-value-forecastor/raw/main/data/apple_news.csv\n",
            "!wget -P /content/code https://github.com/Nagaraj-gt/fp1-stock-value-forecastor/raw/main/code/requirements.txt\n",
            "!wget -P /content/packages https://github.com/Nagaraj-gt/fp1-stock-value-forecastor/raw/main/packages/preparation.py\n",
            "\n",
            "Additional setup for torch, nltk and requirements\n",
            "!pip install torch==1.7.0+cu101 torchvision==0.8.1+cu101 torchaudio==0.7.0 -f https://download.pytorch.org/whl/torch_stable.html\n",
            "!pip install -r code/requirements.txt\n",
            "!python -m nltk.downloader opinion_lexicon punkt stopwords averaged_perceptron_tagger wordnet\n",
            "!python -m spacy download en\n"
          ]
        }
      ],
      "source": [
        "import sys, os\n",
        "ON_COLAB = 'google.colab' in sys.modules\n",
        "\n",
        "if ON_COLAB:\n",
        "    GIT_ROOT = 'https://github.com/Nagaraj-gt/fp1-stock-value-forecastor/raw/main'\n",
        "    os.system(f'wget {GIT_ROOT}/code/setup.py')\n",
        "\n",
        "%run -i setup.py"
      ]
    },
    {
      "cell_type": "markdown",
      "metadata": {
        "id": "8L6pEBLpIVDu"
      },
      "source": [
        "## Load Python Settings<div class=\"tocSkip\"/>\n",
        "\n",
        "Common imports, defaults for formatting in Matplotlib, Pandas etc."
      ]
    },
    {
      "cell_type": "code",
      "execution_count": 3,
      "metadata": {
        "colab": {
          "base_uri": "https://localhost:8080/"
        },
        "id": "YLfaG7ocIVDu",
        "outputId": "920eed11-8127-4884-dc31-6dde358efcf7"
      },
      "outputs": [
        {
          "output_type": "stream",
          "name": "stderr",
          "text": [
            "[nltk_data] Downloading package opinion_lexicon to /root/nltk_data...\n",
            "[nltk_data]   Package opinion_lexicon is already up-to-date!\n"
          ]
        },
        {
          "output_type": "execute_result",
          "data": {
            "text/plain": [
              "True"
            ]
          },
          "metadata": {},
          "execution_count": 3
        }
      ],
      "source": [
        "# path to import packages\n",
        "sys.path.append(BASE_DIR + '/packages')\n",
        "\n",
        "import pandas as pd\n",
        "import numpy as np\n",
        "from sklearn import preprocessing\n",
        "import nltk\n",
        "nltk.download('opinion_lexicon')\n"
      ]
    },
    {
      "cell_type": "markdown",
      "metadata": {
        "id": "Kvg8TT_QIVDv"
      },
      "source": [
        "# Sentiment Analysis"
      ]
    },
    {
      "cell_type": "markdown",
      "metadata": {
        "id": "psk6TdyIIVDw"
      },
      "source": [
        "# Loading News Dataset for a given Ticker - Google (GOOGL)"
      ]
    },
    {
      "cell_type": "code",
      "source": [
        "## Initiation of values\n",
        "from datetime import datetime, timedelta\n",
        "import requests\n",
        "\n",
        "given_ticker = \"GOOGL\"\n",
        "from_date = datetime.today() - timedelta(days=365)\n",
        "api_token = \"CRmdYzOoLTkV2JlMpSWl0WSPuEXzuZvs\"\n",
        "ticker_news_api = \"https://api.polygon.io/v2/reference/news\"\n",
        "ticker_stocks_api = \"https://api.polygon.io/v2/aggs/ticker/\"\n",
        "limit = 1000\n",
        "\n",
        "def get_response (url=ticker_news_api, params=None, headers=None ):\n",
        "\n",
        "  print(\"URL is\" , url)\n",
        "  output_json = []\n",
        "  new_list = []\n",
        "\n",
        "  response = requests.get(url, params=params, headers=headers)\n",
        "\n",
        "  print(\"Response Received : \" , response)\n",
        "\n",
        "  if(response.status_code == 200):\n",
        "    output_json = response.json()\n",
        "    news_list = output_json[\"results\"]\n",
        "\n",
        "  return news_list\n",
        "\n"
      ],
      "metadata": {
        "id": "xFcpVQVuZJN_"
      },
      "execution_count": 4,
      "outputs": []
    },
    {
      "cell_type": "code",
      "execution_count": 5,
      "metadata": {
        "colab": {
          "base_uri": "https://localhost:8080/"
        },
        "id": "vHKb2WKBIVDw",
        "outputId": "5f842370-3f00-4562-93fe-376d43d9cc8c"
      },
      "outputs": [
        {
          "output_type": "stream",
          "name": "stdout",
          "text": [
            "URL is https://api.polygon.io/v2/reference/news\n",
            "Response Received :  <Response [200]>\n"
          ]
        },
        {
          "output_type": "execute_result",
          "data": {
            "text/plain": [
              "0"
            ]
          },
          "metadata": {},
          "execution_count": 5
        }
      ],
      "source": [
        "\n",
        "\n",
        "news_output = get_response (\n",
        "    \n",
        "    ticker_news_api,\n",
        "\n",
        "    params = {\n",
        "      \"apiKey\" : api_token, \n",
        "      \"published_utc.gt\": from_date.date(),\n",
        "      \"ticker\" : given_ticker,\n",
        "      \"limit\": limit\n",
        "     },\n",
        "\n",
        "    headers = {\"Accept\": \"application/json\"}\n",
        ")\n",
        "\n",
        "\n",
        "stock_news_df = pd.DataFrame(news_output)\n",
        "\n",
        "stock_news_df.to_csv(\"Google_Stock_News.csv\")\n",
        "\n",
        "0\n",
        "\n"
      ]
    },
    {
      "cell_type": "markdown",
      "source": [
        "# Cleaning Data"
      ],
      "metadata": {
        "id": "PhQUKQF-CD6C"
      }
    },
    {
      "cell_type": "code",
      "source": [
        "from preparation import *\n",
        "stock_news_df[\"title\"].apply(clean)\n",
        "## stock_news_df[\"description\"].apply(clean)"
      ],
      "metadata": {
        "colab": {
          "base_uri": "https://localhost:8080/"
        },
        "id": "3cv5C8C1CHHp",
        "outputId": "a1d75fde-cbb4-4258-82bf-4099bacdc62d"
      },
      "execution_count": 6,
      "outputs": [
        {
          "output_type": "execute_result",
          "data": {
            "text/plain": [
              "0      Surprise! Warren Buffett \"Owns\" All 5 FAANG St...\n",
              "1      How companies take advantage of our very human...\n",
              "2      Gene Munster's Q2 Earnings Review With Benzing...\n",
              "3      Sensible stock investors put their money on a ...\n",
              "4      Mark Cuban says buying metaverse real estate i...\n",
              "                             ...                        \n",
              "995    Thinking Of Buying A Foldable Smartphone? Hold...\n",
              "996                 Why Alphabet Stock Fell 18% in April\n",
              "997    Grid Dynamics (GDYN) to Report Q1 Earnings: Wh...\n",
              "998    These 3 Stocks Could Be Next on Warren Buffett...\n",
              "999    4 Sector ETFs That Survived the Market Rout in...\n",
              "Name: title, Length: 1000, dtype: object"
            ]
          },
          "metadata": {},
          "execution_count": 6
        }
      ]
    },
    {
      "cell_type": "markdown",
      "metadata": {
        "id": "3xCTf6tsIVDx"
      },
      "source": [
        "# Sentiment Analysis using Lexicon based approaches"
      ]
    },
    {
      "cell_type": "markdown",
      "metadata": {
        "id": "UXa2z_p0IVDy"
      },
      "source": [
        "## Bing Liu Lexicon"
      ]
    },
    {
      "cell_type": "code",
      "execution_count": 7,
      "metadata": {
        "colab": {
          "base_uri": "https://localhost:8080/"
        },
        "id": "QgcNxqWgIVDy",
        "outputId": "14fe7053-8aa4-4178-ba59-c44e28c08b6c"
      },
      "outputs": [
        {
          "output_type": "stream",
          "name": "stdout",
          "text": [
            "Total number of words in opinion lexicon 6789\n",
            "Examples of positive words in opinion lexicon ['a+', 'abound', 'abounds', 'abundance', 'abundant']\n",
            "Examples of negative words in opinion lexicon ['2-faced', '2-faces', 'abnormal', 'abolish', 'abominable']\n"
          ]
        }
      ],
      "source": [
        "from nltk.corpus import opinion_lexicon\n",
        "from nltk.tokenize import word_tokenize\n",
        "\n",
        "print('Total number of words in opinion lexicon', len(opinion_lexicon.words()))\n",
        "print('Examples of positive words in opinion lexicon',\n",
        "      opinion_lexicon.positive()[:5])\n",
        "print('Examples of negative words in opinion lexicon',\n",
        "      opinion_lexicon.negative()[:5])"
      ]
    },
    {
      "cell_type": "code",
      "execution_count": 8,
      "metadata": {
        "id": "lW5p2io3IVDz",
        "colab": {
          "base_uri": "https://localhost:8080/"
        },
        "outputId": "202ee0a0-3c80-41f0-8a11-254bcd50a7ec"
      },
      "outputs": [
        {
          "output_type": "stream",
          "name": "stderr",
          "text": [
            "[nltk_data] Downloading package punkt to /root/nltk_data...\n",
            "[nltk_data]   Package punkt is already up-to-date!\n"
          ]
        }
      ],
      "source": [
        "# Let's create a dictionary which we can use for scoring our review text\n",
        "# Please uncomment this line the first-time you run this code to download the vocabulary from nltk ###\n",
        "nltk.download('punkt')\n",
        "\n",
        "pos_score = 1\n",
        "neg_score = -1\n",
        "word_dict = {}\n",
        "\n",
        "# Adding the positive words to the dictionary\n",
        "for word in opinion_lexicon.positive():\n",
        "        word_dict[word] = pos_score\n",
        "        \n",
        "# Adding the negative words to the dictionary\n",
        "for word in opinion_lexicon.negative():\n",
        "        word_dict[word] = neg_score\n",
        "        \n",
        "def bing_liu_score(text):\n",
        "    sentiment_score = 0\n",
        "    bag_of_words = word_tokenize(text.lower())\n",
        "    for word in bag_of_words:\n",
        "        if word in word_dict:\n",
        "            sentiment_score += word_dict[word]\n",
        "    return sentiment_score / len(bag_of_words)"
      ]
    },
    {
      "cell_type": "code",
      "execution_count": 9,
      "metadata": {
        "colab": {
          "base_uri": "https://localhost:8080/",
          "height": 676
        },
        "id": "HDfKfRtNIVDz",
        "outputId": "5ad6eed4-f774-404f-80e3-32a3f0aeeec5"
      },
      "outputs": [
        {
          "output_type": "execute_result",
          "data": {
            "text/plain": [
              "            published_utc                                              title  \\\n",
              "993  2022-05-04T12:05:00Z  3 Growth Stocks You Can Buy and Hold for the N...   \n",
              "859  2022-05-18T14:09:00Z  Fox (FOXA) News Digital Tops Brands in Multipl...   \n",
              "298  2022-07-17T11:15:00Z   1 Green Flag for Marqeta in 2022, and 1 Red Flag   \n",
              "553  2022-06-20T12:15:00Z    My Best FAANG Stock to Buy Now and Hold Forever   \n",
              "672  2022-06-06T22:02:00Z                Markets Cooler on a Slower News Day   \n",
              "971  2022-05-06T08:46:00Z  Zacks Investment Ideas feature highlights: Ama...   \n",
              "27   2022-08-09T11:51:00Z       Investors Like the News From These Companies   \n",
              "231  2022-07-22T22:34:00Z                            Google Stock Is A Steal   \n",
              "306  2022-07-15T17:47:00Z      Is Alphabet A Buy After 20-For-1 Stock Split?   \n",
              "706  2022-06-02T15:36:00Z  Elon Musk wants Tesla staff to return to offic...   \n",
              "496  2022-06-27T12:05:00Z      Buy The Crash: 2 Tech Stocks That Should Soar   \n",
              "558  2022-06-18T14:37:00Z                3 Top Stocks That Just Went on Sale   \n",
              "784  2022-05-26T10:05:00Z  Snap Suddenly Lowered Its Quarterly Guidance. ...   \n",
              "239  2022-07-22T14:30:00Z  Snap Stock Crash Is an Opportunity, but Not On...   \n",
              "578  2022-06-16T13:48:38Z  Meta: Zuckerberg Might Be Right About The Meta...   \n",
              "55   2022-08-05T17:00:05Z  Amazon Is Buying iRobot. How Does It Rank Agai...   \n",
              "906  2022-05-13T11:05:00Z    1 Tech Stock to Buy During This Market Sell-Off   \n",
              "175  2022-07-26T18:26:32Z  Microsoft Azure Is Narrowing Revenue Gap To AW...   \n",
              "14   2022-08-10T19:42:00Z      3 Tech Titans With Hefty Acquisitions in 2022   \n",
              "77   2022-08-03T09:21:00Z  3 Nasdaq 100 Stocks to Buy Hand Over Fist in A...   \n",
              "\n",
              "     Bing_Liu_Score  \n",
              "993        0.000000  \n",
              "859        0.090909  \n",
              "298        0.000000  \n",
              "553        0.100000  \n",
              "672       -0.142857  \n",
              "971        0.000000  \n",
              "27         0.142857  \n",
              "231       -0.200000  \n",
              "306       -0.111111  \n",
              "706        0.000000  \n",
              "496       -0.100000  \n",
              "558        0.125000  \n",
              "784        0.052632  \n",
              "239       -0.076923  \n",
              "578        0.090909  \n",
              "55         0.000000  \n",
              "906        0.000000  \n",
              "175       -0.066667  \n",
              "14        -0.125000  \n",
              "77        -0.090909  "
            ],
            "text/html": [
              "\n",
              "  <div id=\"df-0afbb715-2425-42c7-a949-7b0272f043f6\">\n",
              "    <div class=\"colab-df-container\">\n",
              "      <div>\n",
              "<style scoped>\n",
              "    .dataframe tbody tr th:only-of-type {\n",
              "        vertical-align: middle;\n",
              "    }\n",
              "\n",
              "    .dataframe tbody tr th {\n",
              "        vertical-align: top;\n",
              "    }\n",
              "\n",
              "    .dataframe thead th {\n",
              "        text-align: right;\n",
              "    }\n",
              "</style>\n",
              "<table border=\"1\" class=\"dataframe\">\n",
              "  <thead>\n",
              "    <tr style=\"text-align: right;\">\n",
              "      <th></th>\n",
              "      <th>published_utc</th>\n",
              "      <th>title</th>\n",
              "      <th>Bing_Liu_Score</th>\n",
              "    </tr>\n",
              "  </thead>\n",
              "  <tbody>\n",
              "    <tr>\n",
              "      <th>993</th>\n",
              "      <td>2022-05-04T12:05:00Z</td>\n",
              "      <td>3 Growth Stocks You Can Buy and Hold for the N...</td>\n",
              "      <td>0.000000</td>\n",
              "    </tr>\n",
              "    <tr>\n",
              "      <th>859</th>\n",
              "      <td>2022-05-18T14:09:00Z</td>\n",
              "      <td>Fox (FOXA) News Digital Tops Brands in Multipl...</td>\n",
              "      <td>0.090909</td>\n",
              "    </tr>\n",
              "    <tr>\n",
              "      <th>298</th>\n",
              "      <td>2022-07-17T11:15:00Z</td>\n",
              "      <td>1 Green Flag for Marqeta in 2022, and 1 Red Flag</td>\n",
              "      <td>0.000000</td>\n",
              "    </tr>\n",
              "    <tr>\n",
              "      <th>553</th>\n",
              "      <td>2022-06-20T12:15:00Z</td>\n",
              "      <td>My Best FAANG Stock to Buy Now and Hold Forever</td>\n",
              "      <td>0.100000</td>\n",
              "    </tr>\n",
              "    <tr>\n",
              "      <th>672</th>\n",
              "      <td>2022-06-06T22:02:00Z</td>\n",
              "      <td>Markets Cooler on a Slower News Day</td>\n",
              "      <td>-0.142857</td>\n",
              "    </tr>\n",
              "    <tr>\n",
              "      <th>971</th>\n",
              "      <td>2022-05-06T08:46:00Z</td>\n",
              "      <td>Zacks Investment Ideas feature highlights: Ama...</td>\n",
              "      <td>0.000000</td>\n",
              "    </tr>\n",
              "    <tr>\n",
              "      <th>27</th>\n",
              "      <td>2022-08-09T11:51:00Z</td>\n",
              "      <td>Investors Like the News From These Companies</td>\n",
              "      <td>0.142857</td>\n",
              "    </tr>\n",
              "    <tr>\n",
              "      <th>231</th>\n",
              "      <td>2022-07-22T22:34:00Z</td>\n",
              "      <td>Google Stock Is A Steal</td>\n",
              "      <td>-0.200000</td>\n",
              "    </tr>\n",
              "    <tr>\n",
              "      <th>306</th>\n",
              "      <td>2022-07-15T17:47:00Z</td>\n",
              "      <td>Is Alphabet A Buy After 20-For-1 Stock Split?</td>\n",
              "      <td>-0.111111</td>\n",
              "    </tr>\n",
              "    <tr>\n",
              "      <th>706</th>\n",
              "      <td>2022-06-02T15:36:00Z</td>\n",
              "      <td>Elon Musk wants Tesla staff to return to offic...</td>\n",
              "      <td>0.000000</td>\n",
              "    </tr>\n",
              "    <tr>\n",
              "      <th>496</th>\n",
              "      <td>2022-06-27T12:05:00Z</td>\n",
              "      <td>Buy The Crash: 2 Tech Stocks That Should Soar</td>\n",
              "      <td>-0.100000</td>\n",
              "    </tr>\n",
              "    <tr>\n",
              "      <th>558</th>\n",
              "      <td>2022-06-18T14:37:00Z</td>\n",
              "      <td>3 Top Stocks That Just Went on Sale</td>\n",
              "      <td>0.125000</td>\n",
              "    </tr>\n",
              "    <tr>\n",
              "      <th>784</th>\n",
              "      <td>2022-05-26T10:05:00Z</td>\n",
              "      <td>Snap Suddenly Lowered Its Quarterly Guidance. ...</td>\n",
              "      <td>0.052632</td>\n",
              "    </tr>\n",
              "    <tr>\n",
              "      <th>239</th>\n",
              "      <td>2022-07-22T14:30:00Z</td>\n",
              "      <td>Snap Stock Crash Is an Opportunity, but Not On...</td>\n",
              "      <td>-0.076923</td>\n",
              "    </tr>\n",
              "    <tr>\n",
              "      <th>578</th>\n",
              "      <td>2022-06-16T13:48:38Z</td>\n",
              "      <td>Meta: Zuckerberg Might Be Right About The Meta...</td>\n",
              "      <td>0.090909</td>\n",
              "    </tr>\n",
              "    <tr>\n",
              "      <th>55</th>\n",
              "      <td>2022-08-05T17:00:05Z</td>\n",
              "      <td>Amazon Is Buying iRobot. How Does It Rank Agai...</td>\n",
              "      <td>0.000000</td>\n",
              "    </tr>\n",
              "    <tr>\n",
              "      <th>906</th>\n",
              "      <td>2022-05-13T11:05:00Z</td>\n",
              "      <td>1 Tech Stock to Buy During This Market Sell-Off</td>\n",
              "      <td>0.000000</td>\n",
              "    </tr>\n",
              "    <tr>\n",
              "      <th>175</th>\n",
              "      <td>2022-07-26T18:26:32Z</td>\n",
              "      <td>Microsoft Azure Is Narrowing Revenue Gap To AW...</td>\n",
              "      <td>-0.066667</td>\n",
              "    </tr>\n",
              "    <tr>\n",
              "      <th>14</th>\n",
              "      <td>2022-08-10T19:42:00Z</td>\n",
              "      <td>3 Tech Titans With Hefty Acquisitions in 2022</td>\n",
              "      <td>-0.125000</td>\n",
              "    </tr>\n",
              "    <tr>\n",
              "      <th>77</th>\n",
              "      <td>2022-08-03T09:21:00Z</td>\n",
              "      <td>3 Nasdaq 100 Stocks to Buy Hand Over Fist in A...</td>\n",
              "      <td>-0.090909</td>\n",
              "    </tr>\n",
              "  </tbody>\n",
              "</table>\n",
              "</div>\n",
              "      <button class=\"colab-df-convert\" onclick=\"convertToInteractive('df-0afbb715-2425-42c7-a949-7b0272f043f6')\"\n",
              "              title=\"Convert this dataframe to an interactive table.\"\n",
              "              style=\"display:none;\">\n",
              "        \n",
              "  <svg xmlns=\"http://www.w3.org/2000/svg\" height=\"24px\"viewBox=\"0 0 24 24\"\n",
              "       width=\"24px\">\n",
              "    <path d=\"M0 0h24v24H0V0z\" fill=\"none\"/>\n",
              "    <path d=\"M18.56 5.44l.94 2.06.94-2.06 2.06-.94-2.06-.94-.94-2.06-.94 2.06-2.06.94zm-11 1L8.5 8.5l.94-2.06 2.06-.94-2.06-.94L8.5 2.5l-.94 2.06-2.06.94zm10 10l.94 2.06.94-2.06 2.06-.94-2.06-.94-.94-2.06-.94 2.06-2.06.94z\"/><path d=\"M17.41 7.96l-1.37-1.37c-.4-.4-.92-.59-1.43-.59-.52 0-1.04.2-1.43.59L10.3 9.45l-7.72 7.72c-.78.78-.78 2.05 0 2.83L4 21.41c.39.39.9.59 1.41.59.51 0 1.02-.2 1.41-.59l7.78-7.78 2.81-2.81c.8-.78.8-2.07 0-2.86zM5.41 20L4 18.59l7.72-7.72 1.47 1.35L5.41 20z\"/>\n",
              "  </svg>\n",
              "      </button>\n",
              "      \n",
              "  <style>\n",
              "    .colab-df-container {\n",
              "      display:flex;\n",
              "      flex-wrap:wrap;\n",
              "      gap: 12px;\n",
              "    }\n",
              "\n",
              "    .colab-df-convert {\n",
              "      background-color: #E8F0FE;\n",
              "      border: none;\n",
              "      border-radius: 50%;\n",
              "      cursor: pointer;\n",
              "      display: none;\n",
              "      fill: #1967D2;\n",
              "      height: 32px;\n",
              "      padding: 0 0 0 0;\n",
              "      width: 32px;\n",
              "    }\n",
              "\n",
              "    .colab-df-convert:hover {\n",
              "      background-color: #E2EBFA;\n",
              "      box-shadow: 0px 1px 2px rgba(60, 64, 67, 0.3), 0px 1px 3px 1px rgba(60, 64, 67, 0.15);\n",
              "      fill: #174EA6;\n",
              "    }\n",
              "\n",
              "    [theme=dark] .colab-df-convert {\n",
              "      background-color: #3B4455;\n",
              "      fill: #D2E3FC;\n",
              "    }\n",
              "\n",
              "    [theme=dark] .colab-df-convert:hover {\n",
              "      background-color: #434B5C;\n",
              "      box-shadow: 0px 1px 3px 1px rgba(0, 0, 0, 0.15);\n",
              "      filter: drop-shadow(0px 1px 2px rgba(0, 0, 0, 0.3));\n",
              "      fill: #FFFFFF;\n",
              "    }\n",
              "  </style>\n",
              "\n",
              "      <script>\n",
              "        const buttonEl =\n",
              "          document.querySelector('#df-0afbb715-2425-42c7-a949-7b0272f043f6 button.colab-df-convert');\n",
              "        buttonEl.style.display =\n",
              "          google.colab.kernel.accessAllowed ? 'block' : 'none';\n",
              "\n",
              "        async function convertToInteractive(key) {\n",
              "          const element = document.querySelector('#df-0afbb715-2425-42c7-a949-7b0272f043f6');\n",
              "          const dataTable =\n",
              "            await google.colab.kernel.invokeFunction('convertToInteractive',\n",
              "                                                     [key], {});\n",
              "          if (!dataTable) return;\n",
              "\n",
              "          const docLinkHtml = 'Like what you see? Visit the ' +\n",
              "            '<a target=\"_blank\" href=https://colab.research.google.com/notebooks/data_table.ipynb>data table notebook</a>'\n",
              "            + ' to learn more about interactive tables.';\n",
              "          element.innerHTML = '';\n",
              "          dataTable['output_type'] = 'display_data';\n",
              "          await google.colab.output.renderOutput(dataTable, element);\n",
              "          const docLink = document.createElement('div');\n",
              "          docLink.innerHTML = docLinkHtml;\n",
              "          element.appendChild(docLink);\n",
              "        }\n",
              "      </script>\n",
              "    </div>\n",
              "  </div>\n",
              "  "
            ]
          },
          "metadata": {},
          "execution_count": 9
        }
      ],
      "source": [
        "stock_news_df['Bing_Liu_Score'] = stock_news_df['title'].apply(bing_liu_score)\n",
        "stock_news_df[['published_utc','title','Bing_Liu_Score']].sample(20, random_state=0)"
      ]
    },
    {
      "cell_type": "code",
      "execution_count": 10,
      "metadata": {
        "id": "eCJyoT2MIVD0"
      },
      "outputs": [],
      "source": [
        "stock_news_df['Bing_Liu_Score'] = preprocessing.scale(stock_news_df['Bing_Liu_Score'])\n",
        "stock_news_df['closing_date'] = pd.to_datetime(stock_news_df['published_utc']).dt.date\n",
        "\n",
        "stock_news_df.groupby('closing_date').agg({'Bing_Liu_Score':'mean'})\n",
        "stock_news_df[['closing_date','Bing_Liu_Score']].sample(20, random_state=0)\n",
        "stock_news_df[['closing_date','Bing_Liu_Score']].to_csv(\"Day_Scores.csv\")"
      ]
    },
    {
      "cell_type": "markdown",
      "source": [
        "# Preparing label for supervised Learning\n",
        "\n",
        "The label will be the closing data stock price. This indicates how the news all day impacted the stock prices at end of the day."
      ],
      "metadata": {
        "id": "lFbQgnI7GJ3J"
      }
    },
    {
      "cell_type": "code",
      "source": [
        "# Get Stock prices\n",
        "\n",
        "stock_output = get_response (\n",
        "    \n",
        "    ticker_stocks_api + given_ticker + \"/range/1/day/\" + from_date.strftime(\"%Y-%m-%d\") +\"/\" + datetime.today().strftime(\"%Y-%m-%d\"),\n",
        "\n",
        "    params = {\n",
        "      \"apiKey\" : api_token, \n",
        "      \"limit\": limit\n",
        "     },\n",
        "\n",
        "    headers = {\"Accept\": \"application/json\"}\n",
        ")\n",
        "\n",
        "stock_price_df = pd.DataFrame(stock_output)\n",
        "\n",
        "stock_price_df.to_csv(\"Google_Stock_Price.csv\")\n",
        "\n",
        "stock_price_df[\"Date\"] = pd.to_datetime(stock_price_df['t'],unit='ms').dt.date\n",
        "stock_price_df[\"Closing_Price\"] = stock_price_df[\"c\"]\n",
        "stock_price_df[\"bullish\"] = np.where(stock_price_df['o'] < stock_price_df['c'], 1, 0)\n",
        "stock_price_df_r = stock_price_df[[\"Date\",\"o\",\"c\",\"bullish\"]]\n",
        "stock_price_df_r"
      ],
      "metadata": {
        "colab": {
          "base_uri": "https://localhost:8080/",
          "height": 458
        },
        "id": "B26bR81sGf5-",
        "outputId": "68c91fd7-7c33-40a2-d13d-c309d173c901"
      },
      "execution_count": 11,
      "outputs": [
        {
          "output_type": "stream",
          "name": "stdout",
          "text": [
            "URL is https://api.polygon.io/v2/aggs/ticker/GOOGL/range/1/day/2021-08-12/2022-08-12\n",
            "Response Received :  <Response [200]>\n"
          ]
        },
        {
          "output_type": "execute_result",
          "data": {
            "text/plain": [
              "           Date         o         c  bullish\n",
              "0    2021-08-12  135.9755  137.1940        1\n",
              "1    2021-08-13  137.2500  137.7275        1\n",
              "2    2021-08-16  137.5249  138.3095        1\n",
              "3    2021-08-17  137.7500  136.6615        0\n",
              "4    2021-08-18  136.5000  135.4490        0\n",
              "..          ...       ...       ...      ...\n",
              "247  2022-08-05  116.2300  117.4700        1\n",
              "248  2022-08-08  118.3900  117.3000        0\n",
              "249  2022-08-09  117.1350  116.6300        0\n",
              "250  2022-08-10  118.7800  119.7000        1\n",
              "251  2022-08-11  121.2800  118.8400        0\n",
              "\n",
              "[252 rows x 4 columns]"
            ],
            "text/html": [
              "\n",
              "  <div id=\"df-a1ba02d4-412d-4afc-9e04-fba3a1022ad7\">\n",
              "    <div class=\"colab-df-container\">\n",
              "      <div>\n",
              "<style scoped>\n",
              "    .dataframe tbody tr th:only-of-type {\n",
              "        vertical-align: middle;\n",
              "    }\n",
              "\n",
              "    .dataframe tbody tr th {\n",
              "        vertical-align: top;\n",
              "    }\n",
              "\n",
              "    .dataframe thead th {\n",
              "        text-align: right;\n",
              "    }\n",
              "</style>\n",
              "<table border=\"1\" class=\"dataframe\">\n",
              "  <thead>\n",
              "    <tr style=\"text-align: right;\">\n",
              "      <th></th>\n",
              "      <th>Date</th>\n",
              "      <th>o</th>\n",
              "      <th>c</th>\n",
              "      <th>bullish</th>\n",
              "    </tr>\n",
              "  </thead>\n",
              "  <tbody>\n",
              "    <tr>\n",
              "      <th>0</th>\n",
              "      <td>2021-08-12</td>\n",
              "      <td>135.9755</td>\n",
              "      <td>137.1940</td>\n",
              "      <td>1</td>\n",
              "    </tr>\n",
              "    <tr>\n",
              "      <th>1</th>\n",
              "      <td>2021-08-13</td>\n",
              "      <td>137.2500</td>\n",
              "      <td>137.7275</td>\n",
              "      <td>1</td>\n",
              "    </tr>\n",
              "    <tr>\n",
              "      <th>2</th>\n",
              "      <td>2021-08-16</td>\n",
              "      <td>137.5249</td>\n",
              "      <td>138.3095</td>\n",
              "      <td>1</td>\n",
              "    </tr>\n",
              "    <tr>\n",
              "      <th>3</th>\n",
              "      <td>2021-08-17</td>\n",
              "      <td>137.7500</td>\n",
              "      <td>136.6615</td>\n",
              "      <td>0</td>\n",
              "    </tr>\n",
              "    <tr>\n",
              "      <th>4</th>\n",
              "      <td>2021-08-18</td>\n",
              "      <td>136.5000</td>\n",
              "      <td>135.4490</td>\n",
              "      <td>0</td>\n",
              "    </tr>\n",
              "    <tr>\n",
              "      <th>...</th>\n",
              "      <td>...</td>\n",
              "      <td>...</td>\n",
              "      <td>...</td>\n",
              "      <td>...</td>\n",
              "    </tr>\n",
              "    <tr>\n",
              "      <th>247</th>\n",
              "      <td>2022-08-05</td>\n",
              "      <td>116.2300</td>\n",
              "      <td>117.4700</td>\n",
              "      <td>1</td>\n",
              "    </tr>\n",
              "    <tr>\n",
              "      <th>248</th>\n",
              "      <td>2022-08-08</td>\n",
              "      <td>118.3900</td>\n",
              "      <td>117.3000</td>\n",
              "      <td>0</td>\n",
              "    </tr>\n",
              "    <tr>\n",
              "      <th>249</th>\n",
              "      <td>2022-08-09</td>\n",
              "      <td>117.1350</td>\n",
              "      <td>116.6300</td>\n",
              "      <td>0</td>\n",
              "    </tr>\n",
              "    <tr>\n",
              "      <th>250</th>\n",
              "      <td>2022-08-10</td>\n",
              "      <td>118.7800</td>\n",
              "      <td>119.7000</td>\n",
              "      <td>1</td>\n",
              "    </tr>\n",
              "    <tr>\n",
              "      <th>251</th>\n",
              "      <td>2022-08-11</td>\n",
              "      <td>121.2800</td>\n",
              "      <td>118.8400</td>\n",
              "      <td>0</td>\n",
              "    </tr>\n",
              "  </tbody>\n",
              "</table>\n",
              "<p>252 rows × 4 columns</p>\n",
              "</div>\n",
              "      <button class=\"colab-df-convert\" onclick=\"convertToInteractive('df-a1ba02d4-412d-4afc-9e04-fba3a1022ad7')\"\n",
              "              title=\"Convert this dataframe to an interactive table.\"\n",
              "              style=\"display:none;\">\n",
              "        \n",
              "  <svg xmlns=\"http://www.w3.org/2000/svg\" height=\"24px\"viewBox=\"0 0 24 24\"\n",
              "       width=\"24px\">\n",
              "    <path d=\"M0 0h24v24H0V0z\" fill=\"none\"/>\n",
              "    <path d=\"M18.56 5.44l.94 2.06.94-2.06 2.06-.94-2.06-.94-.94-2.06-.94 2.06-2.06.94zm-11 1L8.5 8.5l.94-2.06 2.06-.94-2.06-.94L8.5 2.5l-.94 2.06-2.06.94zm10 10l.94 2.06.94-2.06 2.06-.94-2.06-.94-.94-2.06-.94 2.06-2.06.94z\"/><path d=\"M17.41 7.96l-1.37-1.37c-.4-.4-.92-.59-1.43-.59-.52 0-1.04.2-1.43.59L10.3 9.45l-7.72 7.72c-.78.78-.78 2.05 0 2.83L4 21.41c.39.39.9.59 1.41.59.51 0 1.02-.2 1.41-.59l7.78-7.78 2.81-2.81c.8-.78.8-2.07 0-2.86zM5.41 20L4 18.59l7.72-7.72 1.47 1.35L5.41 20z\"/>\n",
              "  </svg>\n",
              "      </button>\n",
              "      \n",
              "  <style>\n",
              "    .colab-df-container {\n",
              "      display:flex;\n",
              "      flex-wrap:wrap;\n",
              "      gap: 12px;\n",
              "    }\n",
              "\n",
              "    .colab-df-convert {\n",
              "      background-color: #E8F0FE;\n",
              "      border: none;\n",
              "      border-radius: 50%;\n",
              "      cursor: pointer;\n",
              "      display: none;\n",
              "      fill: #1967D2;\n",
              "      height: 32px;\n",
              "      padding: 0 0 0 0;\n",
              "      width: 32px;\n",
              "    }\n",
              "\n",
              "    .colab-df-convert:hover {\n",
              "      background-color: #E2EBFA;\n",
              "      box-shadow: 0px 1px 2px rgba(60, 64, 67, 0.3), 0px 1px 3px 1px rgba(60, 64, 67, 0.15);\n",
              "      fill: #174EA6;\n",
              "    }\n",
              "\n",
              "    [theme=dark] .colab-df-convert {\n",
              "      background-color: #3B4455;\n",
              "      fill: #D2E3FC;\n",
              "    }\n",
              "\n",
              "    [theme=dark] .colab-df-convert:hover {\n",
              "      background-color: #434B5C;\n",
              "      box-shadow: 0px 1px 3px 1px rgba(0, 0, 0, 0.15);\n",
              "      filter: drop-shadow(0px 1px 2px rgba(0, 0, 0, 0.3));\n",
              "      fill: #FFFFFF;\n",
              "    }\n",
              "  </style>\n",
              "\n",
              "      <script>\n",
              "        const buttonEl =\n",
              "          document.querySelector('#df-a1ba02d4-412d-4afc-9e04-fba3a1022ad7 button.colab-df-convert');\n",
              "        buttonEl.style.display =\n",
              "          google.colab.kernel.accessAllowed ? 'block' : 'none';\n",
              "\n",
              "        async function convertToInteractive(key) {\n",
              "          const element = document.querySelector('#df-a1ba02d4-412d-4afc-9e04-fba3a1022ad7');\n",
              "          const dataTable =\n",
              "            await google.colab.kernel.invokeFunction('convertToInteractive',\n",
              "                                                     [key], {});\n",
              "          if (!dataTable) return;\n",
              "\n",
              "          const docLinkHtml = 'Like what you see? Visit the ' +\n",
              "            '<a target=\"_blank\" href=https://colab.research.google.com/notebooks/data_table.ipynb>data table notebook</a>'\n",
              "            + ' to learn more about interactive tables.';\n",
              "          element.innerHTML = '';\n",
              "          dataTable['output_type'] = 'display_data';\n",
              "          await google.colab.output.renderOutput(dataTable, element);\n",
              "          const docLink = document.createElement('div');\n",
              "          docLink.innerHTML = docLinkHtml;\n",
              "          element.appendChild(docLink);\n",
              "        }\n",
              "      </script>\n",
              "    </div>\n",
              "  </div>\n",
              "  "
            ]
          },
          "metadata": {},
          "execution_count": 11
        }
      ]
    },
    {
      "cell_type": "code",
      "source": [
        "## Labelling the news articles\n",
        "\n",
        "## Preparing Stock News Data for merge\n",
        "\n",
        "stock_news_df['Date'] =  pd.to_datetime(stock_news_df['published_utc']).dt.date\n",
        "\n",
        "stock_news_df_r = stock_news_df[['Date','title']]\n",
        "\n",
        "stock_news_grouped = stock_news_df_r.groupby(['Date'])['title'].apply(' '.join)\n",
        "\n",
        "stock_news_df_r = pd.DataFrame({'Date':stock_news_grouped.index , 'News': stock_news_grouped.values })\n",
        "\n",
        "Labelled_Stock_News = pd.merge(stock_news_df_r,stock_price_df_r )\n",
        "\n",
        "Labelled_Stock_News.to_csv(\"Labelled_Stock_News.csv\")\n"
      ],
      "metadata": {
        "id": "W_dhylu_Vj6_"
      },
      "execution_count": 12,
      "outputs": []
    },
    {
      "cell_type": "code",
      "source": [
        "stock_news_df_r.head(5)"
      ],
      "metadata": {
        "colab": {
          "base_uri": "https://localhost:8080/",
          "height": 206
        },
        "id": "0LJsRB6oVjgu",
        "outputId": "cddd749d-4cb3-42b1-ad73-9788f46f157e"
      },
      "execution_count": 54,
      "outputs": [
        {
          "output_type": "execute_result",
          "data": {
            "text/plain": [
              "         Date                                               News\n",
              "0  2022-05-03  Why Alphabet Stock Fell 18% in April Grid Dyna...\n",
              "1  2022-05-04  AMD Beats on Q1 Earnings & Revenues, Provides ...\n",
              "2  2022-05-05  3 Reasons Investors Shouldn't Lose Sleep Over ...\n",
              "3  2022-05-06  Defense Wins Ballgames; 3 Stocks That Will Bul...\n",
              "4  2022-05-07  Apple has spent decades building its walled ga..."
            ],
            "text/html": [
              "\n",
              "  <div id=\"df-8304a0be-30ad-4fce-854b-72fc86754a75\">\n",
              "    <div class=\"colab-df-container\">\n",
              "      <div>\n",
              "<style scoped>\n",
              "    .dataframe tbody tr th:only-of-type {\n",
              "        vertical-align: middle;\n",
              "    }\n",
              "\n",
              "    .dataframe tbody tr th {\n",
              "        vertical-align: top;\n",
              "    }\n",
              "\n",
              "    .dataframe thead th {\n",
              "        text-align: right;\n",
              "    }\n",
              "</style>\n",
              "<table border=\"1\" class=\"dataframe\">\n",
              "  <thead>\n",
              "    <tr style=\"text-align: right;\">\n",
              "      <th></th>\n",
              "      <th>Date</th>\n",
              "      <th>News</th>\n",
              "    </tr>\n",
              "  </thead>\n",
              "  <tbody>\n",
              "    <tr>\n",
              "      <th>0</th>\n",
              "      <td>2022-05-03</td>\n",
              "      <td>Why Alphabet Stock Fell 18% in April Grid Dyna...</td>\n",
              "    </tr>\n",
              "    <tr>\n",
              "      <th>1</th>\n",
              "      <td>2022-05-04</td>\n",
              "      <td>AMD Beats on Q1 Earnings &amp; Revenues, Provides ...</td>\n",
              "    </tr>\n",
              "    <tr>\n",
              "      <th>2</th>\n",
              "      <td>2022-05-05</td>\n",
              "      <td>3 Reasons Investors Shouldn't Lose Sleep Over ...</td>\n",
              "    </tr>\n",
              "    <tr>\n",
              "      <th>3</th>\n",
              "      <td>2022-05-06</td>\n",
              "      <td>Defense Wins Ballgames; 3 Stocks That Will Bul...</td>\n",
              "    </tr>\n",
              "    <tr>\n",
              "      <th>4</th>\n",
              "      <td>2022-05-07</td>\n",
              "      <td>Apple has spent decades building its walled ga...</td>\n",
              "    </tr>\n",
              "  </tbody>\n",
              "</table>\n",
              "</div>\n",
              "      <button class=\"colab-df-convert\" onclick=\"convertToInteractive('df-8304a0be-30ad-4fce-854b-72fc86754a75')\"\n",
              "              title=\"Convert this dataframe to an interactive table.\"\n",
              "              style=\"display:none;\">\n",
              "        \n",
              "  <svg xmlns=\"http://www.w3.org/2000/svg\" height=\"24px\"viewBox=\"0 0 24 24\"\n",
              "       width=\"24px\">\n",
              "    <path d=\"M0 0h24v24H0V0z\" fill=\"none\"/>\n",
              "    <path d=\"M18.56 5.44l.94 2.06.94-2.06 2.06-.94-2.06-.94-.94-2.06-.94 2.06-2.06.94zm-11 1L8.5 8.5l.94-2.06 2.06-.94-2.06-.94L8.5 2.5l-.94 2.06-2.06.94zm10 10l.94 2.06.94-2.06 2.06-.94-2.06-.94-.94-2.06-.94 2.06-2.06.94z\"/><path d=\"M17.41 7.96l-1.37-1.37c-.4-.4-.92-.59-1.43-.59-.52 0-1.04.2-1.43.59L10.3 9.45l-7.72 7.72c-.78.78-.78 2.05 0 2.83L4 21.41c.39.39.9.59 1.41.59.51 0 1.02-.2 1.41-.59l7.78-7.78 2.81-2.81c.8-.78.8-2.07 0-2.86zM5.41 20L4 18.59l7.72-7.72 1.47 1.35L5.41 20z\"/>\n",
              "  </svg>\n",
              "      </button>\n",
              "      \n",
              "  <style>\n",
              "    .colab-df-container {\n",
              "      display:flex;\n",
              "      flex-wrap:wrap;\n",
              "      gap: 12px;\n",
              "    }\n",
              "\n",
              "    .colab-df-convert {\n",
              "      background-color: #E8F0FE;\n",
              "      border: none;\n",
              "      border-radius: 50%;\n",
              "      cursor: pointer;\n",
              "      display: none;\n",
              "      fill: #1967D2;\n",
              "      height: 32px;\n",
              "      padding: 0 0 0 0;\n",
              "      width: 32px;\n",
              "    }\n",
              "\n",
              "    .colab-df-convert:hover {\n",
              "      background-color: #E2EBFA;\n",
              "      box-shadow: 0px 1px 2px rgba(60, 64, 67, 0.3), 0px 1px 3px 1px rgba(60, 64, 67, 0.15);\n",
              "      fill: #174EA6;\n",
              "    }\n",
              "\n",
              "    [theme=dark] .colab-df-convert {\n",
              "      background-color: #3B4455;\n",
              "      fill: #D2E3FC;\n",
              "    }\n",
              "\n",
              "    [theme=dark] .colab-df-convert:hover {\n",
              "      background-color: #434B5C;\n",
              "      box-shadow: 0px 1px 3px 1px rgba(0, 0, 0, 0.15);\n",
              "      filter: drop-shadow(0px 1px 2px rgba(0, 0, 0, 0.3));\n",
              "      fill: #FFFFFF;\n",
              "    }\n",
              "  </style>\n",
              "\n",
              "      <script>\n",
              "        const buttonEl =\n",
              "          document.querySelector('#df-8304a0be-30ad-4fce-854b-72fc86754a75 button.colab-df-convert');\n",
              "        buttonEl.style.display =\n",
              "          google.colab.kernel.accessAllowed ? 'block' : 'none';\n",
              "\n",
              "        async function convertToInteractive(key) {\n",
              "          const element = document.querySelector('#df-8304a0be-30ad-4fce-854b-72fc86754a75');\n",
              "          const dataTable =\n",
              "            await google.colab.kernel.invokeFunction('convertToInteractive',\n",
              "                                                     [key], {});\n",
              "          if (!dataTable) return;\n",
              "\n",
              "          const docLinkHtml = 'Like what you see? Visit the ' +\n",
              "            '<a target=\"_blank\" href=https://colab.research.google.com/notebooks/data_table.ipynb>data table notebook</a>'\n",
              "            + ' to learn more about interactive tables.';\n",
              "          element.innerHTML = '';\n",
              "          dataTable['output_type'] = 'display_data';\n",
              "          await google.colab.output.renderOutput(dataTable, element);\n",
              "          const docLink = document.createElement('div');\n",
              "          docLink.innerHTML = docLinkHtml;\n",
              "          element.appendChild(docLink);\n",
              "        }\n",
              "      </script>\n",
              "    </div>\n",
              "  </div>\n",
              "  "
            ]
          },
          "metadata": {},
          "execution_count": 54
        }
      ]
    },
    {
      "cell_type": "markdown",
      "metadata": {
        "id": "3O7qz--IIVD0"
      },
      "source": [
        "# Supervised Learning Approaches"
      ]
    },
    {
      "cell_type": "markdown",
      "metadata": {
        "id": "Tm1oam1TIVD0"
      },
      "source": [
        "## Preparing data for a supervised learning approach"
      ]
    },
    {
      "cell_type": "markdown",
      "source": [
        ""
      ],
      "metadata": {
        "id": "NBAlznkyvF95"
      }
    },
    {
      "cell_type": "code",
      "execution_count": 13,
      "metadata": {
        "id": "4bn6TZYSIVD1"
      },
      "outputs": [],
      "source": [
        "pd.set_option('display.max_rows', None)  ###\n",
        "pd.set_option('display.max_columns', None)  ###\n",
        "pd.set_option('display.width', None)  ###\n",
        "pd.set_option('display.max_colwidth', None)  ###"
      ]
    },
    {
      "cell_type": "markdown",
      "metadata": {
        "id": "UzwZPGvxIVD1"
      },
      "source": [
        "# Blueprint: Vectorizing text data and applying a supervised machine learning algorithm"
      ]
    },
    {
      "cell_type": "markdown",
      "metadata": {
        "id": "wGWBtnC5IVD1"
      },
      "source": [
        "## Step 1 - Data Preparation"
      ]
    },
    {
      "cell_type": "code",
      "execution_count": 14,
      "metadata": {
        "id": "jXLdJD0jIVD1"
      },
      "outputs": [],
      "source": [
        "from preparation import clean\n",
        "Labelled_Stock_News['News_orig'] = Labelled_Stock_News['News'].copy()\n",
        "Labelled_Stock_News['News'] = Labelled_Stock_News['News'].apply(clean)"
      ]
    },
    {
      "cell_type": "code",
      "execution_count": 15,
      "metadata": {
        "id": "YAJmEChHIVD2"
      },
      "outputs": [],
      "source": [
        "\n",
        "# This can take longer to run due to the size of the dataset!\n",
        "import textacy\n",
        "import spacy\n",
        "from spacy.lang.en import STOP_WORDS as stop_words\n",
        "nlp = spacy.load('en')\n",
        "\n",
        "def extract_lemmas(doc, **kwargs):\n",
        "    return [t.lemma_ for t in textacy.extract.words(doc,\n",
        "                                                    filter_stops = False,\n",
        "                                                    filter_punct = True,\n",
        "                                                    filter_nums = True,\n",
        "                                                    include_pos = ['ADJ', 'NOUN', 'VERB', 'ADV'],\n",
        "                                                    exclude_pos = None,\n",
        "                                                    min_freq = 1)]\n",
        "\n",
        "def clean_text(text):\n",
        "    doc = nlp(text)\n",
        "    lemmas = extract_lemmas(doc)\n",
        "    return ' '.join(lemmas)"
      ]
    },
    {
      "cell_type": "code",
      "execution_count": 16,
      "metadata": {
        "id": "wJFQ2-kWIVD2",
        "colab": {
          "base_uri": "https://localhost:8080/"
        },
        "outputId": "da3c67d7-1fb8-4f6b-8d53-a9f233feeb34"
      },
      "outputs": [
        {
          "output_type": "stream",
          "name": "stderr",
          "text": [
            "[nltk_data] Downloading package averaged_perceptron_tagger to\n",
            "[nltk_data]     /root/nltk_data...\n",
            "[nltk_data]   Package averaged_perceptron_tagger is already up-to-\n",
            "[nltk_data]       date!\n",
            "[nltk_data] Downloading package omw-1.4 to /root/nltk_data...\n"
          ]
        }
      ],
      "source": [
        "# Alternate method that uses Wordnet POS tags instead of spaCy - can run faster with similar accuracy\n",
        "# Tokenization and Lemmatization using wordnet. Re-uses parts of blueprint from Chapter 4\n",
        "# Uses wordnet POS tags instead of spaCy\n",
        "# return the wordnet object value corresponding to the POS tag\n",
        "from nltk.corpus import wordnet\n",
        "\n",
        "def get_wordnet_pos(pos_tag):\n",
        "    if pos_tag.startswith('J'):\n",
        "        return wordnet.ADJ\n",
        "    elif pos_tag.startswith('V'):\n",
        "        return wordnet.VERB\n",
        "    elif pos_tag.startswith('N'):\n",
        "        return wordnet.NOUN\n",
        "    elif pos_tag.startswith('R'):\n",
        "        return wordnet.ADV\n",
        "    else:\n",
        "        return wordnet.NOUN\n",
        "    \n",
        "import string\n",
        "from nltk import pos_tag\n",
        "from nltk.corpus import stopwords\n",
        "from nltk.tokenize import WhitespaceTokenizer\n",
        "from nltk.stem import WordNetLemmatizer\n",
        "nltk.download('averaged_perceptron_tagger')\n",
        "nltk.download('omw-1.4')\n",
        "\n",
        "def clean_text(text):\n",
        "    # lower text\n",
        "    text = text.lower()\n",
        "    # tokenize text and remove puncutation\n",
        "    text = [word.strip(string.punctuation) for word in text.split(\" \")]\n",
        "    # remove words that contain numbers\n",
        "    text = [word for word in text if not any(c.isdigit() for c in word)]\n",
        "    # remove stop words\n",
        "    stop = stopwords.words('english')\n",
        "    text = [x for x in text if x not in stop]\n",
        "    # remove empty tokens\n",
        "    text = [t for t in text if len(t) > 0]\n",
        "    # pos tag text\n",
        "    pos_tags = pos_tag(text)\n",
        "    # lemmatize text\n",
        "    text = [WordNetLemmatizer().lemmatize(t[0], get_wordnet_pos(t[1])) for t in pos_tags]\n",
        "    # remove words with only one letter\n",
        "    text = [t for t in text if len(t) > 1]\n",
        "    # join all\n",
        "    text = \" \".join(text)\n",
        "    return(text)"
      ]
    },
    {
      "cell_type": "code",
      "execution_count": 17,
      "metadata": {
        "id": "XLvRqnRRIVD2"
      },
      "outputs": [],
      "source": [
        "Labelled_Stock_News[\"News\"] = Labelled_Stock_News[\"News\"].apply(clean_text)\n",
        "\n",
        "## Remove observations that are empty after the cleaning step\n",
        "Labelled_Stock_News = Labelled_Stock_News[Labelled_Stock_News['News'].str.len() != 0]"
      ]
    },
    {
      "cell_type": "markdown",
      "metadata": {
        "id": "1jTbYLF-IVD3"
      },
      "source": [
        "## Step 2 - Train-Test Split"
      ]
    },
    {
      "cell_type": "code",
      "execution_count": 18,
      "metadata": {
        "colab": {
          "base_uri": "https://localhost:8080/"
        },
        "id": "J_ZX2OJhIVD3",
        "outputId": "19febab7-9541-402a-db63-375c949cf365"
      },
      "outputs": [
        {
          "output_type": "stream",
          "name": "stdout",
          "text": [
            "Size of Training Data  56\n",
            "Size of Test Data  14\n",
            "Distribution of classes in Training Data :\n",
            "Bullish Sentiment  58.92857142857143\n",
            "Bearish Sentiment  41.07142857142857\n",
            "Distribution of classes in Testing Data :\n",
            "Bullish Sentiment  57.14285714285714\n",
            "Bearish Sentiment  42.857142857142854\n"
          ]
        }
      ],
      "source": [
        "from sklearn.model_selection import train_test_split\n",
        "X_train, X_test, Y_train, Y_test = train_test_split(Labelled_Stock_News['News'],\n",
        "                                                    Labelled_Stock_News['bullish'],\n",
        "                                                    test_size=0.2,\n",
        "                                                    random_state=42,\n",
        "                                                    stratify=Labelled_Stock_News['bullish'])\n",
        "\n",
        "print ('Size of Training Data ', X_train.shape[0])\n",
        "print ('Size of Test Data ', X_test.shape[0])\n",
        "\n",
        "print ('Distribution of classes in Training Data :')\n",
        "print ('Bullish Sentiment ', str(sum(Y_train == 1)/ len(Y_train) * 100.0))\n",
        "print ('Bearish Sentiment ', str(sum(Y_train == 0)/ len(Y_train) * 100.0))\n",
        "\n",
        "print ('Distribution of classes in Testing Data :')\n",
        "print ('Bullish Sentiment ', str(sum(Y_test == 1)/ len(Y_test) * 100.0))\n",
        "print ('Bearish Sentiment ', str(sum(Y_test == 0)/ len(Y_test) * 100.0))"
      ]
    },
    {
      "cell_type": "markdown",
      "metadata": {
        "id": "AcBh4UYwIVD3"
      },
      "source": [
        "## Step 3 - Text Vectorization"
      ]
    },
    {
      "cell_type": "code",
      "execution_count": 19,
      "metadata": {
        "id": "33y199QOIVD3"
      },
      "outputs": [],
      "source": [
        "from sklearn.feature_extraction.text import TfidfVectorizer\n",
        "\n",
        "tfidf = TfidfVectorizer(min_df = 10, ngram_range=(1,1))\n",
        "X_train_tf = tfidf.fit_transform(X_train)\n",
        "X_test_tf = tfidf.transform(X_test)"
      ]
    },
    {
      "cell_type": "markdown",
      "metadata": {
        "id": "1t02Zxm5IVD3"
      },
      "source": [
        "## Step 4 - Training the Machine Learning model"
      ]
    },
    {
      "cell_type": "code",
      "execution_count": 20,
      "metadata": {
        "colab": {
          "base_uri": "https://localhost:8080/"
        },
        "id": "Z8Jw9VEXIVD4",
        "outputId": "0e789249-f510-40b3-cd17-424f4a318116"
      },
      "outputs": [
        {
          "output_type": "execute_result",
          "data": {
            "text/plain": [
              "LinearSVC(random_state=42, tol=1e-05)"
            ]
          },
          "metadata": {},
          "execution_count": 20
        }
      ],
      "source": [
        "from sklearn.svm import LinearSVC\n",
        "\n",
        "model1 = LinearSVC(random_state=42, tol=1e-5)\n",
        "model1.fit(X_train_tf, Y_train)"
      ]
    },
    {
      "cell_type": "code",
      "execution_count": 21,
      "metadata": {
        "colab": {
          "base_uri": "https://localhost:8080/"
        },
        "id": "Kvssk1JUIVD4",
        "outputId": "19e37798-ca92-4479-ef2c-b460f4458153"
      },
      "outputs": [
        {
          "output_type": "stream",
          "name": "stdout",
          "text": [
            "Accuracy Score -  0.7142857142857143\n",
            "ROC-AUC Score -  0.7083333333333334\n"
          ]
        }
      ],
      "source": [
        "from sklearn.metrics import accuracy_score\n",
        "from sklearn.metrics import roc_auc_score\n",
        "\n",
        "Y_pred = model1.predict(X_test_tf)\n",
        "print ('Accuracy Score - ', accuracy_score(Y_test, Y_pred))\n",
        "print ('ROC-AUC Score - ', roc_auc_score(Y_test, Y_pred))"
      ]
    },
    {
      "cell_type": "code",
      "execution_count": 22,
      "metadata": {
        "colab": {
          "base_uri": "https://localhost:8080/",
          "height": 736
        },
        "id": "dDETkYkTIVD4",
        "outputId": "2f93e0fa-ee8f-4e15-f156-1b6a338b314e"
      },
      "outputs": [
        {
          "output_type": "stream",
          "name": "stdout",
          "text": [
            "Some sample reviews with their sentiment - \n"
          ]
        },
        {
          "output_type": "execute_result",
          "data": {
            "text/plain": [
              "                                                                                                                                                                                                                                                                                                                                                                                                                                                                                                                                                                                                                                                                                                                                                                                                                                                                                                                                                                                                                                          News_orig  \\\n",
              "10                                                                                                                                                                                                                                                                                                                                                                                  No College Degree? Apple, Tesla And More Companies Say 'No Problem' Palantir: Dead Cat Bounce Grubhub is giving NYC office workers free lunch --- but who’s still in the office to get the deal? How To Use S&P 500 Futures To Predict Market Movement Tech Market Sell-Off: 4 Stocks Down Big That Are Long-Term Holds Microsoft Vs. Google: Which Is The Better Buy? Could This Growth Stock Make it Big in the Streaming Market? Google's Pixel Watch Is Reportedly Using Outdated Chip 2 Cryptocurrencies That Could Dwarf Dogecoin Is Alphabet a Buy After Q1 Earnings? Google and PayPal are hiding most of their carbon footprint in their bank accounts   \n",
              "67                                                                                                                                                                                              The Trade Desk Rockets Higher on Blockbuster Performance -- Is the Stock a Buy? Justice Department expected to file antitrust lawsuit against Google as soon as September: report Are Netflix Subscribers Playing Its Video Games? Here's The Latest Data Why This Investor Thinks Airbnb's Stock Buyback Plan Is a \"Horrible\" Idea Why Outset Medical Is Worth a Look These 18 tech stocks are this earnings season's standouts based on three criteria Investors Like the News From These Companies 3 Tech Stocks That Are Screaming Buys in August Did You Miss What Microsoft Had to Say? Checking In on Caterpillar, Arista Networks, and Pinterest Is Google Cheap? 3 Ways To Value The Company Google Search suffers rare but brief outage Monday night No, You Can't Google That: Search Engine Down For Thousands Of Users On Monday Night   \n",
              "48                                                                                                                                                                                                                                                             Synchronoss (SNCR) Offers Support for Alibaba & Google Cloud Wall Street Says Not to Buy These Stocks, But Here's Why I Am Stock-Split Watch: Is Adobe Next? Amazon (AMZN) Boosts AWS Offerings With Cloud WAN Availability The tourists have fled the energy space. One bank says they may have bolted too soon. 2 Growth Stocks to Buy in a Bear Market If You Had Invested $1,000 in Alphabet in 2010, This Is How Much You Would Have Today Is Alphabet Stock a Buy Now Before the 20-for-1 Stock Split? Apple price target cut to $175 at Citi, which offers five reasons to keep buying the stock Google Parent To Slow Down Hiring Amid Global Economic Crisis Google: The Old Adage Of Time Vs. Timing Tracking Mario Gabelli's Gabelli Funds 13F Portfolio - Q1 2022 Update   \n",
              "22  3 Stocks To Buy In This Market Madness Why Is Uber (UBER) Down 7.8% Since Last Earnings Report? 4 Metrics Proving Roku's Ready for a Bull Run Why stocks' bounce feels more like 'a typical bear-market rally than the start of something new and prosperous' Separating Signal From Noise in the Metaverse I've never liked Facebook stock -- and these 4 warnings beyond Sheryl Sandberg's departure are why you shouldn't either Is MongoDB Stock a Buy After Crushing Earnings? Apple stock suffers first 'death cross' chart pattern since the pandemic After three years of promises, attempt to regulate tech comes down to a single bill 'Completely F**king Incompetent:' Russian Soldiers Bash Vladimir Putin, Close Aides In Intercepted Audio We've seen this movie before — the biggest tech-stock gains are still ahead of us A guide for new entrepreneurs on marketing your startup with social media Google Searches For Direction As It Narrowly Misses Target GM's Cruise Becomes California's First Driverless Ride Service   \n",
              "55                                                                  Google Stock Is A Steal Is Alphabet (GOOGL) a Buy Heading into Q2 Earnings Announcement? S&P 500 Trims Weekly Gain Following Better-Than-Feared Earnings Reports Previewing Big Tech Earnings Ahead of a Huge Week for Wall Street An Inside Look at the Rule Breakers Investing Mindset Expert Ratings for Alphabet Mizuho Slashes Google's Price Target By 14% To Reflect Headwinds For Its Cloud, Advertising Businesses Snap's 'grim outlook' sends stock on near-40% skid, slaps other social names Snap Stock Crash Is an Opportunity, but Not One You Might Think Tech Getting Hit After Snap's Earnings, Oil Price Dropping And Other Top Headlines For July 22 Here's the Next Stock-Split Stock to Buy After Alphabet Google: Buy The Split 5 Big Tech Stocks Report Earnings Next Week: Here’s What To Expect  UBS isn't yet a believer in the rally. Here's its advice on what to do now. 2 Stock-Split Stocks to Buy Hand Over Fist and 1 to Avoid Like the Plague   \n",
              "\n",
              "    sentiment_prediction  \n",
              "10                     0  \n",
              "67                     0  \n",
              "48                     0  \n",
              "22                     0  \n",
              "55                     1  "
            ],
            "text/html": [
              "\n",
              "  <div id=\"df-9d958b35-ef3b-497a-96a6-4224f1502bef\">\n",
              "    <div class=\"colab-df-container\">\n",
              "      <div>\n",
              "<style scoped>\n",
              "    .dataframe tbody tr th:only-of-type {\n",
              "        vertical-align: middle;\n",
              "    }\n",
              "\n",
              "    .dataframe tbody tr th {\n",
              "        vertical-align: top;\n",
              "    }\n",
              "\n",
              "    .dataframe thead th {\n",
              "        text-align: right;\n",
              "    }\n",
              "</style>\n",
              "<table border=\"1\" class=\"dataframe\">\n",
              "  <thead>\n",
              "    <tr style=\"text-align: right;\">\n",
              "      <th></th>\n",
              "      <th>News_orig</th>\n",
              "      <th>sentiment_prediction</th>\n",
              "    </tr>\n",
              "  </thead>\n",
              "  <tbody>\n",
              "    <tr>\n",
              "      <th>10</th>\n",
              "      <td>No College Degree? Apple, Tesla And More Companies Say 'No Problem' Palantir: Dead Cat Bounce Grubhub is giving NYC office workers free lunch --- but who’s still in the office to get the deal? How To Use S&amp;P 500 Futures To Predict Market Movement Tech Market Sell-Off: 4 Stocks Down Big That Are Long-Term Holds Microsoft Vs. Google: Which Is The Better Buy? Could This Growth Stock Make it Big in the Streaming Market? Google's Pixel Watch Is Reportedly Using Outdated Chip 2 Cryptocurrencies That Could Dwarf Dogecoin Is Alphabet a Buy After Q1 Earnings? Google and PayPal are hiding most of their carbon footprint in their bank accounts</td>\n",
              "      <td>0</td>\n",
              "    </tr>\n",
              "    <tr>\n",
              "      <th>67</th>\n",
              "      <td>The Trade Desk Rockets Higher on Blockbuster Performance -- Is the Stock a Buy? Justice Department expected to file antitrust lawsuit against Google as soon as September: report Are Netflix Subscribers Playing Its Video Games? Here's The Latest Data Why This Investor Thinks Airbnb's Stock Buyback Plan Is a \"Horrible\" Idea Why Outset Medical Is Worth a Look These 18 tech stocks are this earnings season's standouts based on three criteria Investors Like the News From These Companies 3 Tech Stocks That Are Screaming Buys in August Did You Miss What Microsoft Had to Say? Checking In on Caterpillar, Arista Networks, and Pinterest Is Google Cheap? 3 Ways To Value The Company Google Search suffers rare but brief outage Monday night No, You Can't Google That: Search Engine Down For Thousands Of Users On Monday Night</td>\n",
              "      <td>0</td>\n",
              "    </tr>\n",
              "    <tr>\n",
              "      <th>48</th>\n",
              "      <td>Synchronoss (SNCR) Offers Support for Alibaba &amp; Google Cloud Wall Street Says Not to Buy These Stocks, But Here's Why I Am Stock-Split Watch: Is Adobe Next? Amazon (AMZN) Boosts AWS Offerings With Cloud WAN Availability The tourists have fled the energy space. One bank says they may have bolted too soon. 2 Growth Stocks to Buy in a Bear Market If You Had Invested $1,000 in Alphabet in 2010, This Is How Much You Would Have Today Is Alphabet Stock a Buy Now Before the 20-for-1 Stock Split? Apple price target cut to $175 at Citi, which offers five reasons to keep buying the stock Google Parent To Slow Down Hiring Amid Global Economic Crisis Google: The Old Adage Of Time Vs. Timing Tracking Mario Gabelli's Gabelli Funds 13F Portfolio - Q1 2022 Update</td>\n",
              "      <td>0</td>\n",
              "    </tr>\n",
              "    <tr>\n",
              "      <th>22</th>\n",
              "      <td>3 Stocks To Buy In This Market Madness Why Is Uber (UBER) Down 7.8% Since Last Earnings Report? 4 Metrics Proving Roku's Ready for a Bull Run Why stocks' bounce feels more like 'a typical bear-market rally than the start of something new and prosperous' Separating Signal From Noise in the Metaverse I've never liked Facebook stock -- and these 4 warnings beyond Sheryl Sandberg's departure are why you shouldn't either Is MongoDB Stock a Buy After Crushing Earnings? Apple stock suffers first 'death cross' chart pattern since the pandemic After three years of promises, attempt to regulate tech comes down to a single bill 'Completely F**king Incompetent:' Russian Soldiers Bash Vladimir Putin, Close Aides In Intercepted Audio We've seen this movie before — the biggest tech-stock gains are still ahead of us A guide for new entrepreneurs on marketing your startup with social media Google Searches For Direction As It Narrowly Misses Target GM's Cruise Becomes California's First Driverless Ride Service</td>\n",
              "      <td>0</td>\n",
              "    </tr>\n",
              "    <tr>\n",
              "      <th>55</th>\n",
              "      <td>Google Stock Is A Steal Is Alphabet (GOOGL) a Buy Heading into Q2 Earnings Announcement? S&amp;P 500 Trims Weekly Gain Following Better-Than-Feared Earnings Reports Previewing Big Tech Earnings Ahead of a Huge Week for Wall Street An Inside Look at the Rule Breakers Investing Mindset Expert Ratings for Alphabet Mizuho Slashes Google's Price Target By 14% To Reflect Headwinds For Its Cloud, Advertising Businesses Snap's 'grim outlook' sends stock on near-40% skid, slaps other social names Snap Stock Crash Is an Opportunity, but Not One You Might Think Tech Getting Hit After Snap's Earnings, Oil Price Dropping And Other Top Headlines For July 22 Here's the Next Stock-Split Stock to Buy After Alphabet Google: Buy The Split 5 Big Tech Stocks Report Earnings Next Week: Here’s What To Expect  UBS isn't yet a believer in the rally. Here's its advice on what to do now. 2 Stock-Split Stocks to Buy Hand Over Fist and 1 to Avoid Like the Plague</td>\n",
              "      <td>1</td>\n",
              "    </tr>\n",
              "  </tbody>\n",
              "</table>\n",
              "</div>\n",
              "      <button class=\"colab-df-convert\" onclick=\"convertToInteractive('df-9d958b35-ef3b-497a-96a6-4224f1502bef')\"\n",
              "              title=\"Convert this dataframe to an interactive table.\"\n",
              "              style=\"display:none;\">\n",
              "        \n",
              "  <svg xmlns=\"http://www.w3.org/2000/svg\" height=\"24px\"viewBox=\"0 0 24 24\"\n",
              "       width=\"24px\">\n",
              "    <path d=\"M0 0h24v24H0V0z\" fill=\"none\"/>\n",
              "    <path d=\"M18.56 5.44l.94 2.06.94-2.06 2.06-.94-2.06-.94-.94-2.06-.94 2.06-2.06.94zm-11 1L8.5 8.5l.94-2.06 2.06-.94-2.06-.94L8.5 2.5l-.94 2.06-2.06.94zm10 10l.94 2.06.94-2.06 2.06-.94-2.06-.94-.94-2.06-.94 2.06-2.06.94z\"/><path d=\"M17.41 7.96l-1.37-1.37c-.4-.4-.92-.59-1.43-.59-.52 0-1.04.2-1.43.59L10.3 9.45l-7.72 7.72c-.78.78-.78 2.05 0 2.83L4 21.41c.39.39.9.59 1.41.59.51 0 1.02-.2 1.41-.59l7.78-7.78 2.81-2.81c.8-.78.8-2.07 0-2.86zM5.41 20L4 18.59l7.72-7.72 1.47 1.35L5.41 20z\"/>\n",
              "  </svg>\n",
              "      </button>\n",
              "      \n",
              "  <style>\n",
              "    .colab-df-container {\n",
              "      display:flex;\n",
              "      flex-wrap:wrap;\n",
              "      gap: 12px;\n",
              "    }\n",
              "\n",
              "    .colab-df-convert {\n",
              "      background-color: #E8F0FE;\n",
              "      border: none;\n",
              "      border-radius: 50%;\n",
              "      cursor: pointer;\n",
              "      display: none;\n",
              "      fill: #1967D2;\n",
              "      height: 32px;\n",
              "      padding: 0 0 0 0;\n",
              "      width: 32px;\n",
              "    }\n",
              "\n",
              "    .colab-df-convert:hover {\n",
              "      background-color: #E2EBFA;\n",
              "      box-shadow: 0px 1px 2px rgba(60, 64, 67, 0.3), 0px 1px 3px 1px rgba(60, 64, 67, 0.15);\n",
              "      fill: #174EA6;\n",
              "    }\n",
              "\n",
              "    [theme=dark] .colab-df-convert {\n",
              "      background-color: #3B4455;\n",
              "      fill: #D2E3FC;\n",
              "    }\n",
              "\n",
              "    [theme=dark] .colab-df-convert:hover {\n",
              "      background-color: #434B5C;\n",
              "      box-shadow: 0px 1px 3px 1px rgba(0, 0, 0, 0.15);\n",
              "      filter: drop-shadow(0px 1px 2px rgba(0, 0, 0, 0.3));\n",
              "      fill: #FFFFFF;\n",
              "    }\n",
              "  </style>\n",
              "\n",
              "      <script>\n",
              "        const buttonEl =\n",
              "          document.querySelector('#df-9d958b35-ef3b-497a-96a6-4224f1502bef button.colab-df-convert');\n",
              "        buttonEl.style.display =\n",
              "          google.colab.kernel.accessAllowed ? 'block' : 'none';\n",
              "\n",
              "        async function convertToInteractive(key) {\n",
              "          const element = document.querySelector('#df-9d958b35-ef3b-497a-96a6-4224f1502bef');\n",
              "          const dataTable =\n",
              "            await google.colab.kernel.invokeFunction('convertToInteractive',\n",
              "                                                     [key], {});\n",
              "          if (!dataTable) return;\n",
              "\n",
              "          const docLinkHtml = 'Like what you see? Visit the ' +\n",
              "            '<a target=\"_blank\" href=https://colab.research.google.com/notebooks/data_table.ipynb>data table notebook</a>'\n",
              "            + ' to learn more about interactive tables.';\n",
              "          element.innerHTML = '';\n",
              "          dataTable['output_type'] = 'display_data';\n",
              "          await google.colab.output.renderOutput(dataTable, element);\n",
              "          const docLink = document.createElement('div');\n",
              "          docLink.innerHTML = docLinkHtml;\n",
              "          element.appendChild(docLink);\n",
              "        }\n",
              "      </script>\n",
              "    </div>\n",
              "  </div>\n",
              "  "
            ]
          },
          "metadata": {},
          "execution_count": 22
        }
      ],
      "source": [
        "sample_reviews = Labelled_Stock_News.sample(5, random_state=22)\n",
        "sample_reviews_tf = tfidf.transform(sample_reviews['News'])\n",
        "sentiment_predictions = model1.predict(sample_reviews_tf)\n",
        "sentiment_predictions = pd.DataFrame(data = sentiment_predictions,\n",
        "                                     index=sample_reviews.index,\n",
        "                                     columns=['sentiment_prediction'])\n",
        "sample_reviews = pd.concat([sample_reviews, sentiment_predictions], axis=1)\n",
        "print ('Some sample reviews with their sentiment - ')\n",
        "sample_reviews[['News_orig','sentiment_prediction']]"
      ]
    },
    {
      "cell_type": "code",
      "execution_count": 23,
      "metadata": {
        "colab": {
          "base_uri": "https://localhost:8080/"
        },
        "id": "BFwUMIsWIVD5",
        "outputId": "24cd28ff-56de-46df-876c-090ffdf6c8cd"
      },
      "outputs": [
        {
          "output_type": "stream",
          "name": "stdout",
          "text": [
            "0.35714285714285715\n"
          ]
        }
      ],
      "source": [
        "def baseline_scorer(text):\n",
        "    score = bing_liu_score(text)\n",
        "    if score > 0:\n",
        "        return 1\n",
        "    else:\n",
        "        return 0\n",
        "    \n",
        "Y_pred_baseline = X_test.apply(baseline_scorer)\n",
        "acc_score = accuracy_score(Y_pred_baseline, Y_test)\n",
        "print (acc_score)"
      ]
    },
    {
      "cell_type": "markdown",
      "metadata": {
        "id": "ULuD9fddIVD5"
      },
      "source": [
        "### Saving the trained model and vectorizer for use with the API later"
      ]
    },
    {
      "cell_type": "code",
      "execution_count": 24,
      "metadata": {
        "id": "DHjNXOg3IVD5",
        "colab": {
          "base_uri": "https://localhost:8080/",
          "height": 217
        },
        "outputId": "00a0c22e-b7ad-4291-c5a5-4d23a00b7fd8"
      },
      "outputs": [
        {
          "output_type": "error",
          "ename": "FileNotFoundError",
          "evalue": "ignored",
          "traceback": [
            "\u001b[0;31m---------------------------------------------------------------------------\u001b[0m",
            "\u001b[0;31mFileNotFoundError\u001b[0m                         Traceback (most recent call last)",
            "\u001b[0;32m/content/setup.py\u001b[0m in \u001b[0;36m<module>\u001b[0;34m()\u001b[0m\n\u001b[1;32m      1\u001b[0m \u001b[0;32mimport\u001b[0m \u001b[0mpickle\u001b[0m\u001b[0;34m\u001b[0m\u001b[0;34m\u001b[0m\u001b[0m\n\u001b[1;32m      2\u001b[0m \u001b[0;34m\u001b[0m\u001b[0m\n\u001b[0;32m----> 3\u001b[0;31m \u001b[0mpickle\u001b[0m\u001b[0;34m.\u001b[0m\u001b[0mdump\u001b[0m\u001b[0;34m(\u001b[0m\u001b[0mmodel1\u001b[0m\u001b[0;34m,\u001b[0m \u001b[0mopen\u001b[0m\u001b[0;34m(\u001b[0m\u001b[0;34m'models/stock_news_classification.pickle'\u001b[0m\u001b[0;34m,\u001b[0m\u001b[0;34m'wb'\u001b[0m\u001b[0;34m)\u001b[0m\u001b[0;34m)\u001b[0m\u001b[0;34m\u001b[0m\u001b[0;34m\u001b[0m\u001b[0m\n\u001b[0m\u001b[1;32m      4\u001b[0m \u001b[0mpickle\u001b[0m\u001b[0;34m.\u001b[0m\u001b[0mdump\u001b[0m\u001b[0;34m(\u001b[0m\u001b[0mtfidf\u001b[0m\u001b[0;34m,\u001b[0m \u001b[0mopen\u001b[0m\u001b[0;34m(\u001b[0m\u001b[0;34m'models/stock_news_vectorizer.pickle'\u001b[0m\u001b[0;34m,\u001b[0m\u001b[0;34m'wb'\u001b[0m\u001b[0;34m)\u001b[0m\u001b[0;34m)\u001b[0m\u001b[0;34m\u001b[0m\u001b[0;34m\u001b[0m\u001b[0m\n",
            "\u001b[0;31mFileNotFoundError\u001b[0m: [Errno 2] No such file or directory: 'models/stock_news_classification.pickle'"
          ]
        }
      ],
      "source": [
        "import pickle\n",
        "\n",
        "pickle.dump(model1, open('models/stock_news_classification.pickle','wb'))\n",
        "pickle.dump(tfidf, open('models/stock_news_vectorizer.pickle','wb'))"
      ]
    },
    {
      "cell_type": "markdown",
      "metadata": {
        "id": "ssXGtWABIVD5"
      },
      "source": [
        "# Pre-trained Language Models using deep learning"
      ]
    },
    {
      "cell_type": "markdown",
      "metadata": {
        "id": "R4Sk2aqeIVD5"
      },
      "source": [
        "## Deep Learning and Transfer Learning\n"
      ]
    },
    {
      "cell_type": "markdown",
      "metadata": {
        "id": "-pN8O7MJIVD7"
      },
      "source": [
        "# Blueprint: using transfer learning technique and a pre-trained language model"
      ]
    },
    {
      "cell_type": "code",
      "execution_count": null,
      "metadata": {
        "id": "0RMhzCJJIVD7"
      },
      "outputs": [],
      "source": [
        "# This is an optional step to reduce the size of the data by sampling only 40% of the observations\n",
        "# It is very useful to conduct a first run using a GPU (on Google Colab)\n",
        "# Lager number of observations can cause longer runtime and automatic shutdown on the Colab free instance\n",
        "#df = df.sample(frac=0.4, random_state=42)"
      ]
    },
    {
      "cell_type": "markdown",
      "metadata": {
        "id": "4VZ2Uq_OIVD7"
      },
      "source": [
        "## Step 1: Loading models and tokenization"
      ]
    },
    {
      "cell_type": "code",
      "execution_count": 25,
      "metadata": {
        "colab": {
          "base_uri": "https://localhost:8080/",
          "height": 220,
          "referenced_widgets": [
            "8c0bc2c9358b40d7a4ee603a1488e782",
            "1ab669376e604942bbef2eefb7370d8f",
            "29c72e7db3e747aebe3553cf5a524123",
            "3ee3c63342e640d485da706b6827907a",
            "edf61172106e47c3a7430c12dcaee390",
            "bb1c51698fca43d3bbe6b5bb6c8c1480",
            "5f1391a71409429cbc0d28be8d46fa59",
            "94d915e9189b4ae0a47473da85a57de6",
            "f664be69254649af8cf38168f71c22a5",
            "005cff304dd6406db0c202dfada53a93",
            "b623fb7944e246a6a1a8b1ef92ec56e7",
            "f053cf7f2e734af580a82e9fa2f7f17a",
            "4d23e702feb64eadaf4aeb91a3f7f22b",
            "0292cb40c42c44af8a50151de8a23ae3",
            "91a1ffca2dfc4fdfa3b1601457e8ef59",
            "69d1465df09348f1ba4f51872244756b",
            "dfd19a3df5cd48aea4b4631fd7d5d762",
            "2a09cd8803f741949119a5247d1a2605",
            "bb3b99eaa49c4498bdbff9177227a272",
            "cadd886a51074635b9d25087ab03d6ee",
            "726446ec07bf4fe084ddadb4c91a8952",
            "8895c9615ab64afbb0d3a2786b007ffc",
            "8e9d238e34da40f6bb1ed7ad39416af2",
            "3e36d99bf954439f9de291368fa78203",
            "0d5c4fb6ccf545a0aa43dd3e965ca913",
            "a090f4ab64d44e0ea5d10979f03edc21",
            "98e33bfd0db94adcbc6333002349a62a",
            "24f2cbdf1b774b22817cbbceca9b774c",
            "48a1021ab2844f1f89ea94f947208160",
            "87077208453649988ccca088b8818af2",
            "52fccd21df2d4c848439875d35853635",
            "b91c91ad60cb490393990312fade2f14",
            "ba99abde36ef4cb09520bcac91d947e6"
          ]
        },
        "id": "F8WLqitZIVD7",
        "outputId": "f6f62f7b-962c-4bb4-b757-1699598e40a0"
      },
      "outputs": [
        {
          "output_type": "display_data",
          "data": {
            "text/plain": [
              "Downloading:   0%|          | 0.00/570 [00:00<?, ?B/s]"
            ],
            "application/vnd.jupyter.widget-view+json": {
              "version_major": 2,
              "version_minor": 0,
              "model_id": "8c0bc2c9358b40d7a4ee603a1488e782"
            }
          },
          "metadata": {}
        },
        {
          "output_type": "display_data",
          "data": {
            "text/plain": [
              "Downloading:   0%|          | 0.00/232k [00:00<?, ?B/s]"
            ],
            "application/vnd.jupyter.widget-view+json": {
              "version_major": 2,
              "version_minor": 0,
              "model_id": "f053cf7f2e734af580a82e9fa2f7f17a"
            }
          },
          "metadata": {}
        },
        {
          "output_type": "display_data",
          "data": {
            "text/plain": [
              "Downloading:   0%|          | 0.00/440M [00:00<?, ?B/s]"
            ],
            "application/vnd.jupyter.widget-view+json": {
              "version_major": 2,
              "version_minor": 0,
              "model_id": "8e9d238e34da40f6bb1ed7ad39416af2"
            }
          },
          "metadata": {}
        },
        {
          "output_type": "stream",
          "name": "stderr",
          "text": [
            "Some weights of the model checkpoint at bert-base-uncased were not used when initializing BertForSequenceClassification: ['cls.predictions.bias', 'cls.predictions.transform.dense.weight', 'cls.predictions.transform.dense.bias', 'cls.predictions.decoder.weight', 'cls.seq_relationship.weight', 'cls.seq_relationship.bias', 'cls.predictions.transform.LayerNorm.weight', 'cls.predictions.transform.LayerNorm.bias']\n",
            "- This IS expected if you are initializing BertForSequenceClassification from the checkpoint of a model trained on another task or with another architecture (e.g. initializing a BertForSequenceClassification model from a BertForPreTraining model).\n",
            "- This IS NOT expected if you are initializing BertForSequenceClassification from the checkpoint of a model that you expect to be exactly identical (initializing a BertForSequenceClassification model from a BertForSequenceClassification model).\n",
            "Some weights of BertForSequenceClassification were not initialized from the model checkpoint at bert-base-uncased and are newly initialized: ['classifier.weight', 'classifier.bias']\n",
            "You should probably TRAIN this model on a down-stream task to be able to use it for predictions and inference.\n"
          ]
        }
      ],
      "source": [
        "from transformers import BertConfig, BertTokenizer, BertForSequenceClassification\n",
        "\n",
        "config = BertConfig.from_pretrained('bert-base-uncased', finetuning_task='binary')\n",
        "tokenizer = BertTokenizer.from_pretrained('bert-base-uncased')\n",
        "model = BertForSequenceClassification.from_pretrained('bert-base-uncased')"
      ]
    },
    {
      "cell_type": "code",
      "execution_count": 26,
      "metadata": {
        "id": "c5wT2qv2IVD7"
      },
      "outputs": [],
      "source": [
        "# There is a change in behavior of the truncation while calling the encode function. \n",
        "# This produces a warning and the behavior will probably change in future\n",
        "# Currently supress the warning as described - https://github.com/huggingface/transformers/issues/5397\n",
        "import warnings; ###\n",
        "warnings.filterwarnings('ignore'); ###\n",
        "\n",
        "def get_tokens(text, tokenizer, max_seq_length, add_special_tokens=True):\n",
        "  input_ids = tokenizer.encode(text, \n",
        "                               add_special_tokens=add_special_tokens, \n",
        "                               max_length=max_seq_length,\n",
        "                               pad_to_max_length=True)\n",
        "  attention_mask = [int(id > 0) for id in input_ids]\n",
        "  assert len(input_ids) == max_seq_length\n",
        "  assert len(attention_mask) == max_seq_length\n",
        "  return (input_ids, attention_mask)\n"
      ]
    },
    {
      "cell_type": "code",
      "execution_count": 27,
      "metadata": {
        "id": "n-qDJ_KeIVD8",
        "colab": {
          "base_uri": "https://localhost:8080/"
        },
        "outputId": "30355ac7-7662-424d-b1a3-9df0c015ffc4"
      },
      "outputs": [
        {
          "output_type": "stream",
          "name": "stderr",
          "text": [
            "Truncation was not explicitly activated but `max_length` is provided a specific value, please use `truncation=True` to explicitly truncate examples to max length. Defaulting to 'longest_first' truncation strategy. If you encode pairs of sequences (GLUE-style) with the tokenizer you can select this strategy more precisely by providing a specific strategy to `truncation`.\n"
          ]
        }
      ],
      "source": [
        "X_train, X_test, Y_train, Y_test = train_test_split(Labelled_Stock_News['News_orig'],\n",
        "                                                    Labelled_Stock_News['bullish'],\n",
        "                                                    test_size=0.2,\n",
        "                                                    random_state=42,\n",
        "                                                    stratify=Labelled_Stock_News['bullish'])\n",
        "X_train_tokens = X_train.apply(get_tokens, args=(tokenizer, 50))\n",
        "X_test_tokens = X_test.apply(get_tokens, args=(tokenizer, 50))"
      ]
    },
    {
      "cell_type": "code",
      "execution_count": 28,
      "metadata": {
        "colab": {
          "base_uri": "https://localhost:8080/"
        },
        "id": "uEjPLPezIVD8",
        "outputId": "396095f0-2fe2-4421-ed63-ebb85261b42e"
      },
      "outputs": [
        {
          "output_type": "stream",
          "name": "stdout",
          "text": [
            "torch.Size([56, 50])\n",
            "torch.Size([56, 50])\n",
            "torch.Size([56])\n"
          ]
        }
      ],
      "source": [
        "import torch\n",
        "from torch.utils.data import TensorDataset\n",
        "\n",
        "input_ids_train = torch.tensor(\n",
        "    [features[0] for features in X_train_tokens.values], dtype=torch.long)\n",
        "input_mask_train = torch.tensor(\n",
        "    [features[1] for features in X_train_tokens.values], dtype=torch.long)\n",
        "label_ids_train = torch.tensor(Y_train.values, dtype=torch.long)\n",
        "\n",
        "print (input_ids_train.shape)\n",
        "print (input_mask_train.shape)\n",
        "print (label_ids_train.shape)"
      ]
    },
    {
      "cell_type": "code",
      "execution_count": 29,
      "metadata": {
        "colab": {
          "base_uri": "https://localhost:8080/"
        },
        "id": "CUwY_CmEIVD8",
        "outputId": "ee90ea8e-ad7d-4180-eda3-0b8f17affd9e"
      },
      "outputs": [
        {
          "output_type": "execute_result",
          "data": {
            "text/plain": [
              "tensor([  101, 12440,  1006, 27571, 23296,  1007, 12154,  2004,  3006, 16510,\n",
              "         2015,  1024,  2054,  2017,  2323,  2113,  2339,  8066,  2480,  4518,\n",
              "         7569,  2000,  1037,  4840,  2035,  1011,  2051,  2659,  2651,  8224,\n",
              "         4518,  3975,  2003,  4844,  1024,  2054,  1005,  1055,  1996,  4518,\n",
              "        17680,  1029,  1016,  6031, 28305,  2102, 15768,  2000,  4965,   102])"
            ]
          },
          "metadata": {},
          "execution_count": 29
        }
      ],
      "source": [
        "input_ids_train[2]"
      ]
    },
    {
      "cell_type": "code",
      "execution_count": 30,
      "metadata": {
        "id": "zeNkMq58IVD9"
      },
      "outputs": [],
      "source": [
        "train_dataset = TensorDataset(input_ids_train,input_mask_train,label_ids_train)"
      ]
    },
    {
      "cell_type": "code",
      "execution_count": 31,
      "metadata": {
        "id": "9gePkss2IVD9"
      },
      "outputs": [],
      "source": [
        "input_ids_test = torch.tensor([features[0] for features in X_test_tokens.values], \n",
        "                              dtype=torch.long)\n",
        "input_mask_test = torch.tensor([features[1] for features in X_test_tokens.values], \n",
        "                               dtype=torch.long)\n",
        "label_ids_test = torch.tensor(Y_test.values, \n",
        "                              dtype=torch.long)\n",
        "test_dataset = TensorDataset(input_ids_test, input_mask_test, label_ids_test)"
      ]
    },
    {
      "cell_type": "markdown",
      "metadata": {
        "id": "eOVpuEMnIVD9"
      },
      "source": [
        "## Step 2 - Model Training"
      ]
    },
    {
      "cell_type": "code",
      "execution_count": 32,
      "metadata": {
        "colab": {
          "base_uri": "https://localhost:8080/"
        },
        "id": "QMpZhr7RIVD9",
        "outputId": "94b5cd9b-315c-41aa-92bc-a210443ffeda"
      },
      "outputs": [
        {
          "output_type": "stream",
          "name": "stdout",
          "text": [
            "Num training examples =  56\n",
            "Train batch size  =  64\n",
            "Num training steps in an epoch =  1\n",
            "Num Epochs =  2\n",
            "Total num training steps =  2\n"
          ]
        }
      ],
      "source": [
        "from torch.utils.data import DataLoader, RandomSampler\n",
        "\n",
        "train_batch_size = 64\n",
        "num_train_epochs = 2\n",
        "\n",
        "train_sampler = RandomSampler(train_dataset)\n",
        "train_dataloader = DataLoader(train_dataset, \n",
        "                              sampler=train_sampler, \n",
        "                              batch_size=train_batch_size)\n",
        "t_total = len(train_dataloader) * num_train_epochs\n",
        "\n",
        "print (\"Num training examples = \", len(train_dataset))\n",
        "print (\"Train batch size  = \", train_batch_size)\n",
        "print (\"Num training steps in an epoch = \", len(train_dataloader))\n",
        "print (\"Num Epochs = \", num_train_epochs)\n",
        "print (\"Total num training steps = \", t_total)"
      ]
    },
    {
      "cell_type": "code",
      "execution_count": 33,
      "metadata": {
        "id": "jNURV7P1IVD9"
      },
      "outputs": [],
      "source": [
        "from transformers import AdamW, get_linear_schedule_with_warmup\n",
        "\n",
        "learning_rate = 1e-4\n",
        "adam_epsilon = 1e-8\n",
        "warmup_steps = 0\n",
        "\n",
        "optimizer = AdamW(model.parameters(), lr=learning_rate, eps=adam_epsilon)\n",
        "scheduler = get_linear_schedule_with_warmup(optimizer, \n",
        "                                            num_warmup_steps=warmup_steps, \n",
        "                                            num_training_steps=t_total)"
      ]
    },
    {
      "cell_type": "code",
      "execution_count": 34,
      "metadata": {
        "colab": {
          "base_uri": "https://localhost:8080/",
          "height": 133,
          "referenced_widgets": [
            "a2c9e654ff7e45deba1326a187fb4ad8",
            "0cb583af8e6e458bb2f558204981f5ac",
            "9a18c316d7ec49039383009142fd1311",
            "2749ce3184174ad4ad867b3e56491d2c",
            "d8171d555c6a45038ecccbba9eeff02a",
            "c4a46d2b284a4310b028dae477779afe",
            "cbf08f40e87f4867b6e803c14d9b2b75",
            "c9a454458e0442ef81d2c0773364f8da",
            "3cc665dc5ecb438faec21ea8a463bec3",
            "4f7f0c98ec8f412b81dfcba2f53c6e18",
            "c446dc36b3fe46629c5ff7ba29eb3413",
            "a19bc9b7b11b4645b2b735ee2735d700",
            "7396ec2086eb435c9c43dc2dbabd3075",
            "d900931b547842768cea863225d6b9fd",
            "da44e7b0c1b14757969a8fd3b5cc70a8",
            "e907f6a9242746d7bee69ad3e4e3a2b3",
            "224403a0cde5423c89574cdfaa49f581",
            "0b4caeb7d03d4f858df8ce54e83911d4",
            "07dba58ab66548119410566306439d7d",
            "a5e7e7e9276b4a46b613e77d9dc97eb7",
            "c210dfcd46cd49ceb4d39efebf8e54e4",
            "3651bfeb67bc4beeacb9624491076cde"
          ]
        },
        "id": "MNmZn5f7IVD-",
        "outputId": "28eb962a-1e89-4cd8-a388-99d7e5a51f2d"
      },
      "outputs": [
        {
          "output_type": "stream",
          "name": "stderr",
          "text": [
            "\rEpoch:   0%|          | 0/2 [00:00<?, ?it/s]"
          ]
        },
        {
          "output_type": "display_data",
          "data": {
            "text/plain": [
              "Iteration:   0%|          | 0/1 [00:00<?, ?it/s]"
            ],
            "application/vnd.jupyter.widget-view+json": {
              "version_major": 2,
              "version_minor": 0,
              "model_id": "a2c9e654ff7e45deba1326a187fb4ad8"
            }
          },
          "metadata": {}
        },
        {
          "output_type": "stream",
          "name": "stdout",
          "text": [
            "\r0.694005"
          ]
        },
        {
          "output_type": "stream",
          "name": "stderr",
          "text": [
            "\rEpoch:  50%|█████     | 1/2 [00:27<00:27, 27.27s/it]"
          ]
        },
        {
          "output_type": "display_data",
          "data": {
            "text/plain": [
              "Iteration:   0%|          | 0/1 [00:00<?, ?it/s]"
            ],
            "application/vnd.jupyter.widget-view+json": {
              "version_major": 2,
              "version_minor": 0,
              "model_id": "a19bc9b7b11b4645b2b735ee2735d700"
            }
          },
          "metadata": {}
        },
        {
          "output_type": "stream",
          "name": "stdout",
          "text": [
            "\r0.715776"
          ]
        },
        {
          "output_type": "stream",
          "name": "stderr",
          "text": [
            "Epoch: 100%|██████████| 2/2 [00:52<00:00, 26.45s/it]\n"
          ]
        }
      ],
      "source": [
        "from tqdm import trange, notebook\n",
        "\n",
        "device = torch.device(\"cuda\" if torch.cuda.is_available() else \"cpu\")\n",
        "train_iterator = trange(num_train_epochs, desc=\"Epoch\")\n",
        "\n",
        "## Put model in 'train' mode\n",
        "model.train()\n",
        "    \n",
        "for epoch in train_iterator:\n",
        "    epoch_iterator = notebook.tqdm(train_dataloader, desc=\"Iteration\")\n",
        "    for step, batch in enumerate(epoch_iterator):\n",
        "\n",
        "        ## Reset all gradients at start of every iteration\n",
        "        model.zero_grad()\n",
        "        \n",
        "        ## Put the model and the input observations to GPU\n",
        "        model.to(device)\n",
        "        batch = tuple(t.to(device) for t in batch)\n",
        "        \n",
        "        ## Identify the inputs to the model\n",
        "        inputs = {'input_ids':      batch[0],\n",
        "                  'attention_mask': batch[1],\n",
        "                  'labels':         batch[2]}\n",
        "\n",
        "        ## Forward Pass through the model. Input -> Model -> Output\n",
        "        outputs = model(**inputs)\n",
        "\n",
        "        ## Determine the deviation (loss)\n",
        "        loss = outputs[0]\n",
        "        print(\"\\r%f\" % loss, end='')\n",
        "\n",
        "        ## Back-propogate the loss (automatically calculates gradients)\n",
        "        loss.backward()\n",
        "\n",
        "        ## Prevent exploding gradients by limiting gradients to 1.0 \n",
        "        torch.nn.utils.clip_grad_norm_(model.parameters(), 1.0)\n",
        "\n",
        "        ## Update the parameters and learning rate\n",
        "        optimizer.step()\n",
        "        scheduler.step()"
      ]
    },
    {
      "cell_type": "code",
      "execution_count": null,
      "metadata": {
        "id": "VPOl-aZvIVD-"
      },
      "outputs": [],
      "source": [
        "model.save_pretrained('outputs')"
      ]
    },
    {
      "cell_type": "markdown",
      "metadata": {
        "id": "FOWluibrIVD-"
      },
      "source": [
        "## Step 3 - Model Evaluation\n"
      ]
    },
    {
      "cell_type": "code",
      "execution_count": 35,
      "metadata": {
        "colab": {
          "base_uri": "https://localhost:8080/",
          "height": 66,
          "referenced_widgets": [
            "e6216038ae874b58a88bd0d3cecb2d38",
            "965c8f166144426d86aa612f98b9d709",
            "a67f7de164474394ace171217a7db027",
            "29dcf9eebb4a4c3b90e50a86388b9020",
            "67a348aecb0140b39e15a0edc5015440",
            "ef1cd10200714dcabc94522f20286aa4",
            "8c99ba54e3fd45d18a6b7ccf5e34900e",
            "72334c8786464979a38f477cce5cdfad",
            "386bb2667e5b4b88b2b3d0ca8471389a",
            "d0673ccbe55e4cbdb7797652a983212f",
            "baae55062ffb4b928562c6b8938e6bb5"
          ]
        },
        "id": "MN5TUT8BIVD-",
        "outputId": "de850ee9-ae71-4b37-c08b-1ee4312abd6a"
      },
      "outputs": [
        {
          "output_type": "display_data",
          "data": {
            "text/plain": [
              "Evaluating:   0%|          | 0/1 [00:00<?, ?it/s]"
            ],
            "application/vnd.jupyter.widget-view+json": {
              "version_major": 2,
              "version_minor": 0,
              "model_id": "e6216038ae874b58a88bd0d3cecb2d38"
            }
          },
          "metadata": {}
        },
        {
          "output_type": "stream",
          "name": "stdout",
          "text": [
            "Accuracy Score on Test data  0.5714285714285714\n"
          ]
        }
      ],
      "source": [
        "import numpy as np\n",
        "from torch.utils.data import SequentialSampler\n",
        "\n",
        "test_batch_size = 64\n",
        "test_sampler = SequentialSampler(test_dataset)\n",
        "test_dataloader = DataLoader(test_dataset, \n",
        "                             sampler=test_sampler, \n",
        "                             batch_size=test_batch_size)\n",
        "\n",
        "# Load the pre-trained model that was saved earlier \n",
        "# model = model.from_pretrained('/outputs')\n",
        "\n",
        "# Initialize the prediction and actual labels\n",
        "preds = None\n",
        "out_label_ids = None\n",
        "\n",
        "## Put model in \"eval\" mode\n",
        "model.eval()\n",
        "\n",
        "for batch in notebook.tqdm(test_dataloader, desc=\"Evaluating\"):\n",
        "    \n",
        "    ## Put the model and the input observations to GPU\n",
        "    model.to(device)\n",
        "    batch = tuple(t.to(device) for t in batch)\n",
        "    \n",
        "    ## Do not track any gradients since in 'eval' mode\n",
        "    with torch.no_grad():\n",
        "        inputs = {'input_ids':      batch[0],\n",
        "                  'attention_mask': batch[1],\n",
        "                  'labels':         batch[2]}\n",
        "\n",
        "        ## Forward pass through the model\n",
        "        outputs = model(**inputs)\n",
        "\n",
        "        ## We get loss since we provided the labels\n",
        "        tmp_eval_loss, logits = outputs[:2]\n",
        "\n",
        "        ## There maybe more than one batch of items in the test dataset\n",
        "        if preds is None:\n",
        "            preds = logits.detach().cpu().numpy()\n",
        "            out_label_ids = inputs['labels'].detach().cpu().numpy()\n",
        "        else:\n",
        "            preds = np.append(preds, logits.detach().cpu().numpy(), axis=0)\n",
        "            out_label_ids = np.append(out_label_ids, \n",
        "                                      inputs['labels'].detach().cpu().numpy(), \n",
        "                                      axis=0)\n",
        "    \n",
        "## Get final loss, predictions and accuracy\n",
        "preds = np.argmax(preds, axis=1)\n",
        "acc_score = accuracy_score(preds, out_label_ids)\n",
        "print ('Accuracy Score on Test data ', acc_score)"
      ]
    },
    {
      "cell_type": "markdown",
      "metadata": {
        "id": "Z5RhlBS0IVD-"
      },
      "source": [
        "# Closing Remarks\n",
        "\n",
        "The model was trained on 2 models. The LinearSVC accuracy score was around 35% . However with pretrained model of basic BERT, the accuracy score increased substntially to 57%"
      ]
    }
  ],
  "metadata": {
    "anaconda-cloud": {},
    "kernelspec": {
      "display_name": "Python 3",
      "language": "python",
      "name": "python3"
    },
    "language_info": {
      "codemirror_mode": {
        "name": "ipython",
        "version": 3
      },
      "file_extension": ".py",
      "mimetype": "text/x-python",
      "name": "python",
      "nbconvert_exporter": "python",
      "pygments_lexer": "ipython3",
      "version": "3.8.8"
    },
    "toc": {
      "base_numbering": 1,
      "nav_menu": {},
      "number_sections": true,
      "sideBar": true,
      "skip_h1_title": false,
      "title_cell": "Table of Contents",
      "title_sidebar": "Contents",
      "toc_cell": false,
      "toc_position": {},
      "toc_section_display": true,
      "toc_window_display": false
    },
    "varInspector": {
      "cols": {
        "lenName": 16,
        "lenType": 16,
        "lenVar": 40
      },
      "kernels_config": {
        "python": {
          "delete_cmd_postfix": "",
          "delete_cmd_prefix": "del ",
          "library": "var_list.py",
          "varRefreshCmd": "print(var_dic_list())"
        },
        "r": {
          "delete_cmd_postfix": ") ",
          "delete_cmd_prefix": "rm(",
          "library": "var_list.r",
          "varRefreshCmd": "cat(var_dic_list()) "
        }
      },
      "types_to_exclude": [
        "module",
        "function",
        "builtin_function_or_method",
        "instance",
        "_Feature"
      ],
      "window_display": false
    },
    "colab": {
      "name": "Stock_Predictions_analysis.ipynb",
      "provenance": [],
      "collapsed_sections": [
        "1jTbYLF-IVD3",
        "AcBh4UYwIVD3",
        "1t02Zxm5IVD3",
        "ULuD9fddIVD5",
        "R4Sk2aqeIVD5",
        "4VZ2Uq_OIVD7",
        "eOVpuEMnIVD9",
        "FOWluibrIVD-"
      ],
      "include_colab_link": true
    },
    "widgets": {
      "application/vnd.jupyter.widget-state+json": {
        "8c0bc2c9358b40d7a4ee603a1488e782": {
          "model_module": "@jupyter-widgets/controls",
          "model_name": "HBoxModel",
          "model_module_version": "1.5.0",
          "state": {
            "_dom_classes": [],
            "_model_module": "@jupyter-widgets/controls",
            "_model_module_version": "1.5.0",
            "_model_name": "HBoxModel",
            "_view_count": null,
            "_view_module": "@jupyter-widgets/controls",
            "_view_module_version": "1.5.0",
            "_view_name": "HBoxView",
            "box_style": "",
            "children": [
              "IPY_MODEL_1ab669376e604942bbef2eefb7370d8f",
              "IPY_MODEL_29c72e7db3e747aebe3553cf5a524123",
              "IPY_MODEL_3ee3c63342e640d485da706b6827907a"
            ],
            "layout": "IPY_MODEL_edf61172106e47c3a7430c12dcaee390"
          }
        },
        "1ab669376e604942bbef2eefb7370d8f": {
          "model_module": "@jupyter-widgets/controls",
          "model_name": "HTMLModel",
          "model_module_version": "1.5.0",
          "state": {
            "_dom_classes": [],
            "_model_module": "@jupyter-widgets/controls",
            "_model_module_version": "1.5.0",
            "_model_name": "HTMLModel",
            "_view_count": null,
            "_view_module": "@jupyter-widgets/controls",
            "_view_module_version": "1.5.0",
            "_view_name": "HTMLView",
            "description": "",
            "description_tooltip": null,
            "layout": "IPY_MODEL_bb1c51698fca43d3bbe6b5bb6c8c1480",
            "placeholder": "​",
            "style": "IPY_MODEL_5f1391a71409429cbc0d28be8d46fa59",
            "value": "Downloading: 100%"
          }
        },
        "29c72e7db3e747aebe3553cf5a524123": {
          "model_module": "@jupyter-widgets/controls",
          "model_name": "FloatProgressModel",
          "model_module_version": "1.5.0",
          "state": {
            "_dom_classes": [],
            "_model_module": "@jupyter-widgets/controls",
            "_model_module_version": "1.5.0",
            "_model_name": "FloatProgressModel",
            "_view_count": null,
            "_view_module": "@jupyter-widgets/controls",
            "_view_module_version": "1.5.0",
            "_view_name": "ProgressView",
            "bar_style": "success",
            "description": "",
            "description_tooltip": null,
            "layout": "IPY_MODEL_94d915e9189b4ae0a47473da85a57de6",
            "max": 570,
            "min": 0,
            "orientation": "horizontal",
            "style": "IPY_MODEL_f664be69254649af8cf38168f71c22a5",
            "value": 570
          }
        },
        "3ee3c63342e640d485da706b6827907a": {
          "model_module": "@jupyter-widgets/controls",
          "model_name": "HTMLModel",
          "model_module_version": "1.5.0",
          "state": {
            "_dom_classes": [],
            "_model_module": "@jupyter-widgets/controls",
            "_model_module_version": "1.5.0",
            "_model_name": "HTMLModel",
            "_view_count": null,
            "_view_module": "@jupyter-widgets/controls",
            "_view_module_version": "1.5.0",
            "_view_name": "HTMLView",
            "description": "",
            "description_tooltip": null,
            "layout": "IPY_MODEL_005cff304dd6406db0c202dfada53a93",
            "placeholder": "​",
            "style": "IPY_MODEL_b623fb7944e246a6a1a8b1ef92ec56e7",
            "value": " 570/570 [00:00&lt;00:00, 13.8kB/s]"
          }
        },
        "edf61172106e47c3a7430c12dcaee390": {
          "model_module": "@jupyter-widgets/base",
          "model_name": "LayoutModel",
          "model_module_version": "1.2.0",
          "state": {
            "_model_module": "@jupyter-widgets/base",
            "_model_module_version": "1.2.0",
            "_model_name": "LayoutModel",
            "_view_count": null,
            "_view_module": "@jupyter-widgets/base",
            "_view_module_version": "1.2.0",
            "_view_name": "LayoutView",
            "align_content": null,
            "align_items": null,
            "align_self": null,
            "border": null,
            "bottom": null,
            "display": null,
            "flex": null,
            "flex_flow": null,
            "grid_area": null,
            "grid_auto_columns": null,
            "grid_auto_flow": null,
            "grid_auto_rows": null,
            "grid_column": null,
            "grid_gap": null,
            "grid_row": null,
            "grid_template_areas": null,
            "grid_template_columns": null,
            "grid_template_rows": null,
            "height": null,
            "justify_content": null,
            "justify_items": null,
            "left": null,
            "margin": null,
            "max_height": null,
            "max_width": null,
            "min_height": null,
            "min_width": null,
            "object_fit": null,
            "object_position": null,
            "order": null,
            "overflow": null,
            "overflow_x": null,
            "overflow_y": null,
            "padding": null,
            "right": null,
            "top": null,
            "visibility": null,
            "width": null
          }
        },
        "bb1c51698fca43d3bbe6b5bb6c8c1480": {
          "model_module": "@jupyter-widgets/base",
          "model_name": "LayoutModel",
          "model_module_version": "1.2.0",
          "state": {
            "_model_module": "@jupyter-widgets/base",
            "_model_module_version": "1.2.0",
            "_model_name": "LayoutModel",
            "_view_count": null,
            "_view_module": "@jupyter-widgets/base",
            "_view_module_version": "1.2.0",
            "_view_name": "LayoutView",
            "align_content": null,
            "align_items": null,
            "align_self": null,
            "border": null,
            "bottom": null,
            "display": null,
            "flex": null,
            "flex_flow": null,
            "grid_area": null,
            "grid_auto_columns": null,
            "grid_auto_flow": null,
            "grid_auto_rows": null,
            "grid_column": null,
            "grid_gap": null,
            "grid_row": null,
            "grid_template_areas": null,
            "grid_template_columns": null,
            "grid_template_rows": null,
            "height": null,
            "justify_content": null,
            "justify_items": null,
            "left": null,
            "margin": null,
            "max_height": null,
            "max_width": null,
            "min_height": null,
            "min_width": null,
            "object_fit": null,
            "object_position": null,
            "order": null,
            "overflow": null,
            "overflow_x": null,
            "overflow_y": null,
            "padding": null,
            "right": null,
            "top": null,
            "visibility": null,
            "width": null
          }
        },
        "5f1391a71409429cbc0d28be8d46fa59": {
          "model_module": "@jupyter-widgets/controls",
          "model_name": "DescriptionStyleModel",
          "model_module_version": "1.5.0",
          "state": {
            "_model_module": "@jupyter-widgets/controls",
            "_model_module_version": "1.5.0",
            "_model_name": "DescriptionStyleModel",
            "_view_count": null,
            "_view_module": "@jupyter-widgets/base",
            "_view_module_version": "1.2.0",
            "_view_name": "StyleView",
            "description_width": ""
          }
        },
        "94d915e9189b4ae0a47473da85a57de6": {
          "model_module": "@jupyter-widgets/base",
          "model_name": "LayoutModel",
          "model_module_version": "1.2.0",
          "state": {
            "_model_module": "@jupyter-widgets/base",
            "_model_module_version": "1.2.0",
            "_model_name": "LayoutModel",
            "_view_count": null,
            "_view_module": "@jupyter-widgets/base",
            "_view_module_version": "1.2.0",
            "_view_name": "LayoutView",
            "align_content": null,
            "align_items": null,
            "align_self": null,
            "border": null,
            "bottom": null,
            "display": null,
            "flex": null,
            "flex_flow": null,
            "grid_area": null,
            "grid_auto_columns": null,
            "grid_auto_flow": null,
            "grid_auto_rows": null,
            "grid_column": null,
            "grid_gap": null,
            "grid_row": null,
            "grid_template_areas": null,
            "grid_template_columns": null,
            "grid_template_rows": null,
            "height": null,
            "justify_content": null,
            "justify_items": null,
            "left": null,
            "margin": null,
            "max_height": null,
            "max_width": null,
            "min_height": null,
            "min_width": null,
            "object_fit": null,
            "object_position": null,
            "order": null,
            "overflow": null,
            "overflow_x": null,
            "overflow_y": null,
            "padding": null,
            "right": null,
            "top": null,
            "visibility": null,
            "width": null
          }
        },
        "f664be69254649af8cf38168f71c22a5": {
          "model_module": "@jupyter-widgets/controls",
          "model_name": "ProgressStyleModel",
          "model_module_version": "1.5.0",
          "state": {
            "_model_module": "@jupyter-widgets/controls",
            "_model_module_version": "1.5.0",
            "_model_name": "ProgressStyleModel",
            "_view_count": null,
            "_view_module": "@jupyter-widgets/base",
            "_view_module_version": "1.2.0",
            "_view_name": "StyleView",
            "bar_color": null,
            "description_width": ""
          }
        },
        "005cff304dd6406db0c202dfada53a93": {
          "model_module": "@jupyter-widgets/base",
          "model_name": "LayoutModel",
          "model_module_version": "1.2.0",
          "state": {
            "_model_module": "@jupyter-widgets/base",
            "_model_module_version": "1.2.0",
            "_model_name": "LayoutModel",
            "_view_count": null,
            "_view_module": "@jupyter-widgets/base",
            "_view_module_version": "1.2.0",
            "_view_name": "LayoutView",
            "align_content": null,
            "align_items": null,
            "align_self": null,
            "border": null,
            "bottom": null,
            "display": null,
            "flex": null,
            "flex_flow": null,
            "grid_area": null,
            "grid_auto_columns": null,
            "grid_auto_flow": null,
            "grid_auto_rows": null,
            "grid_column": null,
            "grid_gap": null,
            "grid_row": null,
            "grid_template_areas": null,
            "grid_template_columns": null,
            "grid_template_rows": null,
            "height": null,
            "justify_content": null,
            "justify_items": null,
            "left": null,
            "margin": null,
            "max_height": null,
            "max_width": null,
            "min_height": null,
            "min_width": null,
            "object_fit": null,
            "object_position": null,
            "order": null,
            "overflow": null,
            "overflow_x": null,
            "overflow_y": null,
            "padding": null,
            "right": null,
            "top": null,
            "visibility": null,
            "width": null
          }
        },
        "b623fb7944e246a6a1a8b1ef92ec56e7": {
          "model_module": "@jupyter-widgets/controls",
          "model_name": "DescriptionStyleModel",
          "model_module_version": "1.5.0",
          "state": {
            "_model_module": "@jupyter-widgets/controls",
            "_model_module_version": "1.5.0",
            "_model_name": "DescriptionStyleModel",
            "_view_count": null,
            "_view_module": "@jupyter-widgets/base",
            "_view_module_version": "1.2.0",
            "_view_name": "StyleView",
            "description_width": ""
          }
        },
        "f053cf7f2e734af580a82e9fa2f7f17a": {
          "model_module": "@jupyter-widgets/controls",
          "model_name": "HBoxModel",
          "model_module_version": "1.5.0",
          "state": {
            "_dom_classes": [],
            "_model_module": "@jupyter-widgets/controls",
            "_model_module_version": "1.5.0",
            "_model_name": "HBoxModel",
            "_view_count": null,
            "_view_module": "@jupyter-widgets/controls",
            "_view_module_version": "1.5.0",
            "_view_name": "HBoxView",
            "box_style": "",
            "children": [
              "IPY_MODEL_4d23e702feb64eadaf4aeb91a3f7f22b",
              "IPY_MODEL_0292cb40c42c44af8a50151de8a23ae3",
              "IPY_MODEL_91a1ffca2dfc4fdfa3b1601457e8ef59"
            ],
            "layout": "IPY_MODEL_69d1465df09348f1ba4f51872244756b"
          }
        },
        "4d23e702feb64eadaf4aeb91a3f7f22b": {
          "model_module": "@jupyter-widgets/controls",
          "model_name": "HTMLModel",
          "model_module_version": "1.5.0",
          "state": {
            "_dom_classes": [],
            "_model_module": "@jupyter-widgets/controls",
            "_model_module_version": "1.5.0",
            "_model_name": "HTMLModel",
            "_view_count": null,
            "_view_module": "@jupyter-widgets/controls",
            "_view_module_version": "1.5.0",
            "_view_name": "HTMLView",
            "description": "",
            "description_tooltip": null,
            "layout": "IPY_MODEL_dfd19a3df5cd48aea4b4631fd7d5d762",
            "placeholder": "​",
            "style": "IPY_MODEL_2a09cd8803f741949119a5247d1a2605",
            "value": "Downloading: 100%"
          }
        },
        "0292cb40c42c44af8a50151de8a23ae3": {
          "model_module": "@jupyter-widgets/controls",
          "model_name": "FloatProgressModel",
          "model_module_version": "1.5.0",
          "state": {
            "_dom_classes": [],
            "_model_module": "@jupyter-widgets/controls",
            "_model_module_version": "1.5.0",
            "_model_name": "FloatProgressModel",
            "_view_count": null,
            "_view_module": "@jupyter-widgets/controls",
            "_view_module_version": "1.5.0",
            "_view_name": "ProgressView",
            "bar_style": "success",
            "description": "",
            "description_tooltip": null,
            "layout": "IPY_MODEL_bb3b99eaa49c4498bdbff9177227a272",
            "max": 231508,
            "min": 0,
            "orientation": "horizontal",
            "style": "IPY_MODEL_cadd886a51074635b9d25087ab03d6ee",
            "value": 231508
          }
        },
        "91a1ffca2dfc4fdfa3b1601457e8ef59": {
          "model_module": "@jupyter-widgets/controls",
          "model_name": "HTMLModel",
          "model_module_version": "1.5.0",
          "state": {
            "_dom_classes": [],
            "_model_module": "@jupyter-widgets/controls",
            "_model_module_version": "1.5.0",
            "_model_name": "HTMLModel",
            "_view_count": null,
            "_view_module": "@jupyter-widgets/controls",
            "_view_module_version": "1.5.0",
            "_view_name": "HTMLView",
            "description": "",
            "description_tooltip": null,
            "layout": "IPY_MODEL_726446ec07bf4fe084ddadb4c91a8952",
            "placeholder": "​",
            "style": "IPY_MODEL_8895c9615ab64afbb0d3a2786b007ffc",
            "value": " 232k/232k [00:00&lt;00:00, 1.00MB/s]"
          }
        },
        "69d1465df09348f1ba4f51872244756b": {
          "model_module": "@jupyter-widgets/base",
          "model_name": "LayoutModel",
          "model_module_version": "1.2.0",
          "state": {
            "_model_module": "@jupyter-widgets/base",
            "_model_module_version": "1.2.0",
            "_model_name": "LayoutModel",
            "_view_count": null,
            "_view_module": "@jupyter-widgets/base",
            "_view_module_version": "1.2.0",
            "_view_name": "LayoutView",
            "align_content": null,
            "align_items": null,
            "align_self": null,
            "border": null,
            "bottom": null,
            "display": null,
            "flex": null,
            "flex_flow": null,
            "grid_area": null,
            "grid_auto_columns": null,
            "grid_auto_flow": null,
            "grid_auto_rows": null,
            "grid_column": null,
            "grid_gap": null,
            "grid_row": null,
            "grid_template_areas": null,
            "grid_template_columns": null,
            "grid_template_rows": null,
            "height": null,
            "justify_content": null,
            "justify_items": null,
            "left": null,
            "margin": null,
            "max_height": null,
            "max_width": null,
            "min_height": null,
            "min_width": null,
            "object_fit": null,
            "object_position": null,
            "order": null,
            "overflow": null,
            "overflow_x": null,
            "overflow_y": null,
            "padding": null,
            "right": null,
            "top": null,
            "visibility": null,
            "width": null
          }
        },
        "dfd19a3df5cd48aea4b4631fd7d5d762": {
          "model_module": "@jupyter-widgets/base",
          "model_name": "LayoutModel",
          "model_module_version": "1.2.0",
          "state": {
            "_model_module": "@jupyter-widgets/base",
            "_model_module_version": "1.2.0",
            "_model_name": "LayoutModel",
            "_view_count": null,
            "_view_module": "@jupyter-widgets/base",
            "_view_module_version": "1.2.0",
            "_view_name": "LayoutView",
            "align_content": null,
            "align_items": null,
            "align_self": null,
            "border": null,
            "bottom": null,
            "display": null,
            "flex": null,
            "flex_flow": null,
            "grid_area": null,
            "grid_auto_columns": null,
            "grid_auto_flow": null,
            "grid_auto_rows": null,
            "grid_column": null,
            "grid_gap": null,
            "grid_row": null,
            "grid_template_areas": null,
            "grid_template_columns": null,
            "grid_template_rows": null,
            "height": null,
            "justify_content": null,
            "justify_items": null,
            "left": null,
            "margin": null,
            "max_height": null,
            "max_width": null,
            "min_height": null,
            "min_width": null,
            "object_fit": null,
            "object_position": null,
            "order": null,
            "overflow": null,
            "overflow_x": null,
            "overflow_y": null,
            "padding": null,
            "right": null,
            "top": null,
            "visibility": null,
            "width": null
          }
        },
        "2a09cd8803f741949119a5247d1a2605": {
          "model_module": "@jupyter-widgets/controls",
          "model_name": "DescriptionStyleModel",
          "model_module_version": "1.5.0",
          "state": {
            "_model_module": "@jupyter-widgets/controls",
            "_model_module_version": "1.5.0",
            "_model_name": "DescriptionStyleModel",
            "_view_count": null,
            "_view_module": "@jupyter-widgets/base",
            "_view_module_version": "1.2.0",
            "_view_name": "StyleView",
            "description_width": ""
          }
        },
        "bb3b99eaa49c4498bdbff9177227a272": {
          "model_module": "@jupyter-widgets/base",
          "model_name": "LayoutModel",
          "model_module_version": "1.2.0",
          "state": {
            "_model_module": "@jupyter-widgets/base",
            "_model_module_version": "1.2.0",
            "_model_name": "LayoutModel",
            "_view_count": null,
            "_view_module": "@jupyter-widgets/base",
            "_view_module_version": "1.2.0",
            "_view_name": "LayoutView",
            "align_content": null,
            "align_items": null,
            "align_self": null,
            "border": null,
            "bottom": null,
            "display": null,
            "flex": null,
            "flex_flow": null,
            "grid_area": null,
            "grid_auto_columns": null,
            "grid_auto_flow": null,
            "grid_auto_rows": null,
            "grid_column": null,
            "grid_gap": null,
            "grid_row": null,
            "grid_template_areas": null,
            "grid_template_columns": null,
            "grid_template_rows": null,
            "height": null,
            "justify_content": null,
            "justify_items": null,
            "left": null,
            "margin": null,
            "max_height": null,
            "max_width": null,
            "min_height": null,
            "min_width": null,
            "object_fit": null,
            "object_position": null,
            "order": null,
            "overflow": null,
            "overflow_x": null,
            "overflow_y": null,
            "padding": null,
            "right": null,
            "top": null,
            "visibility": null,
            "width": null
          }
        },
        "cadd886a51074635b9d25087ab03d6ee": {
          "model_module": "@jupyter-widgets/controls",
          "model_name": "ProgressStyleModel",
          "model_module_version": "1.5.0",
          "state": {
            "_model_module": "@jupyter-widgets/controls",
            "_model_module_version": "1.5.0",
            "_model_name": "ProgressStyleModel",
            "_view_count": null,
            "_view_module": "@jupyter-widgets/base",
            "_view_module_version": "1.2.0",
            "_view_name": "StyleView",
            "bar_color": null,
            "description_width": ""
          }
        },
        "726446ec07bf4fe084ddadb4c91a8952": {
          "model_module": "@jupyter-widgets/base",
          "model_name": "LayoutModel",
          "model_module_version": "1.2.0",
          "state": {
            "_model_module": "@jupyter-widgets/base",
            "_model_module_version": "1.2.0",
            "_model_name": "LayoutModel",
            "_view_count": null,
            "_view_module": "@jupyter-widgets/base",
            "_view_module_version": "1.2.0",
            "_view_name": "LayoutView",
            "align_content": null,
            "align_items": null,
            "align_self": null,
            "border": null,
            "bottom": null,
            "display": null,
            "flex": null,
            "flex_flow": null,
            "grid_area": null,
            "grid_auto_columns": null,
            "grid_auto_flow": null,
            "grid_auto_rows": null,
            "grid_column": null,
            "grid_gap": null,
            "grid_row": null,
            "grid_template_areas": null,
            "grid_template_columns": null,
            "grid_template_rows": null,
            "height": null,
            "justify_content": null,
            "justify_items": null,
            "left": null,
            "margin": null,
            "max_height": null,
            "max_width": null,
            "min_height": null,
            "min_width": null,
            "object_fit": null,
            "object_position": null,
            "order": null,
            "overflow": null,
            "overflow_x": null,
            "overflow_y": null,
            "padding": null,
            "right": null,
            "top": null,
            "visibility": null,
            "width": null
          }
        },
        "8895c9615ab64afbb0d3a2786b007ffc": {
          "model_module": "@jupyter-widgets/controls",
          "model_name": "DescriptionStyleModel",
          "model_module_version": "1.5.0",
          "state": {
            "_model_module": "@jupyter-widgets/controls",
            "_model_module_version": "1.5.0",
            "_model_name": "DescriptionStyleModel",
            "_view_count": null,
            "_view_module": "@jupyter-widgets/base",
            "_view_module_version": "1.2.0",
            "_view_name": "StyleView",
            "description_width": ""
          }
        },
        "8e9d238e34da40f6bb1ed7ad39416af2": {
          "model_module": "@jupyter-widgets/controls",
          "model_name": "HBoxModel",
          "model_module_version": "1.5.0",
          "state": {
            "_dom_classes": [],
            "_model_module": "@jupyter-widgets/controls",
            "_model_module_version": "1.5.0",
            "_model_name": "HBoxModel",
            "_view_count": null,
            "_view_module": "@jupyter-widgets/controls",
            "_view_module_version": "1.5.0",
            "_view_name": "HBoxView",
            "box_style": "",
            "children": [
              "IPY_MODEL_3e36d99bf954439f9de291368fa78203",
              "IPY_MODEL_0d5c4fb6ccf545a0aa43dd3e965ca913",
              "IPY_MODEL_a090f4ab64d44e0ea5d10979f03edc21"
            ],
            "layout": "IPY_MODEL_98e33bfd0db94adcbc6333002349a62a"
          }
        },
        "3e36d99bf954439f9de291368fa78203": {
          "model_module": "@jupyter-widgets/controls",
          "model_name": "HTMLModel",
          "model_module_version": "1.5.0",
          "state": {
            "_dom_classes": [],
            "_model_module": "@jupyter-widgets/controls",
            "_model_module_version": "1.5.0",
            "_model_name": "HTMLModel",
            "_view_count": null,
            "_view_module": "@jupyter-widgets/controls",
            "_view_module_version": "1.5.0",
            "_view_name": "HTMLView",
            "description": "",
            "description_tooltip": null,
            "layout": "IPY_MODEL_24f2cbdf1b774b22817cbbceca9b774c",
            "placeholder": "​",
            "style": "IPY_MODEL_48a1021ab2844f1f89ea94f947208160",
            "value": "Downloading: 100%"
          }
        },
        "0d5c4fb6ccf545a0aa43dd3e965ca913": {
          "model_module": "@jupyter-widgets/controls",
          "model_name": "FloatProgressModel",
          "model_module_version": "1.5.0",
          "state": {
            "_dom_classes": [],
            "_model_module": "@jupyter-widgets/controls",
            "_model_module_version": "1.5.0",
            "_model_name": "FloatProgressModel",
            "_view_count": null,
            "_view_module": "@jupyter-widgets/controls",
            "_view_module_version": "1.5.0",
            "_view_name": "ProgressView",
            "bar_style": "success",
            "description": "",
            "description_tooltip": null,
            "layout": "IPY_MODEL_87077208453649988ccca088b8818af2",
            "max": 440473133,
            "min": 0,
            "orientation": "horizontal",
            "style": "IPY_MODEL_52fccd21df2d4c848439875d35853635",
            "value": 440473133
          }
        },
        "a090f4ab64d44e0ea5d10979f03edc21": {
          "model_module": "@jupyter-widgets/controls",
          "model_name": "HTMLModel",
          "model_module_version": "1.5.0",
          "state": {
            "_dom_classes": [],
            "_model_module": "@jupyter-widgets/controls",
            "_model_module_version": "1.5.0",
            "_model_name": "HTMLModel",
            "_view_count": null,
            "_view_module": "@jupyter-widgets/controls",
            "_view_module_version": "1.5.0",
            "_view_name": "HTMLView",
            "description": "",
            "description_tooltip": null,
            "layout": "IPY_MODEL_b91c91ad60cb490393990312fade2f14",
            "placeholder": "​",
            "style": "IPY_MODEL_ba99abde36ef4cb09520bcac91d947e6",
            "value": " 440M/440M [00:10&lt;00:00, 36.9MB/s]"
          }
        },
        "98e33bfd0db94adcbc6333002349a62a": {
          "model_module": "@jupyter-widgets/base",
          "model_name": "LayoutModel",
          "model_module_version": "1.2.0",
          "state": {
            "_model_module": "@jupyter-widgets/base",
            "_model_module_version": "1.2.0",
            "_model_name": "LayoutModel",
            "_view_count": null,
            "_view_module": "@jupyter-widgets/base",
            "_view_module_version": "1.2.0",
            "_view_name": "LayoutView",
            "align_content": null,
            "align_items": null,
            "align_self": null,
            "border": null,
            "bottom": null,
            "display": null,
            "flex": null,
            "flex_flow": null,
            "grid_area": null,
            "grid_auto_columns": null,
            "grid_auto_flow": null,
            "grid_auto_rows": null,
            "grid_column": null,
            "grid_gap": null,
            "grid_row": null,
            "grid_template_areas": null,
            "grid_template_columns": null,
            "grid_template_rows": null,
            "height": null,
            "justify_content": null,
            "justify_items": null,
            "left": null,
            "margin": null,
            "max_height": null,
            "max_width": null,
            "min_height": null,
            "min_width": null,
            "object_fit": null,
            "object_position": null,
            "order": null,
            "overflow": null,
            "overflow_x": null,
            "overflow_y": null,
            "padding": null,
            "right": null,
            "top": null,
            "visibility": null,
            "width": null
          }
        },
        "24f2cbdf1b774b22817cbbceca9b774c": {
          "model_module": "@jupyter-widgets/base",
          "model_name": "LayoutModel",
          "model_module_version": "1.2.0",
          "state": {
            "_model_module": "@jupyter-widgets/base",
            "_model_module_version": "1.2.0",
            "_model_name": "LayoutModel",
            "_view_count": null,
            "_view_module": "@jupyter-widgets/base",
            "_view_module_version": "1.2.0",
            "_view_name": "LayoutView",
            "align_content": null,
            "align_items": null,
            "align_self": null,
            "border": null,
            "bottom": null,
            "display": null,
            "flex": null,
            "flex_flow": null,
            "grid_area": null,
            "grid_auto_columns": null,
            "grid_auto_flow": null,
            "grid_auto_rows": null,
            "grid_column": null,
            "grid_gap": null,
            "grid_row": null,
            "grid_template_areas": null,
            "grid_template_columns": null,
            "grid_template_rows": null,
            "height": null,
            "justify_content": null,
            "justify_items": null,
            "left": null,
            "margin": null,
            "max_height": null,
            "max_width": null,
            "min_height": null,
            "min_width": null,
            "object_fit": null,
            "object_position": null,
            "order": null,
            "overflow": null,
            "overflow_x": null,
            "overflow_y": null,
            "padding": null,
            "right": null,
            "top": null,
            "visibility": null,
            "width": null
          }
        },
        "48a1021ab2844f1f89ea94f947208160": {
          "model_module": "@jupyter-widgets/controls",
          "model_name": "DescriptionStyleModel",
          "model_module_version": "1.5.0",
          "state": {
            "_model_module": "@jupyter-widgets/controls",
            "_model_module_version": "1.5.0",
            "_model_name": "DescriptionStyleModel",
            "_view_count": null,
            "_view_module": "@jupyter-widgets/base",
            "_view_module_version": "1.2.0",
            "_view_name": "StyleView",
            "description_width": ""
          }
        },
        "87077208453649988ccca088b8818af2": {
          "model_module": "@jupyter-widgets/base",
          "model_name": "LayoutModel",
          "model_module_version": "1.2.0",
          "state": {
            "_model_module": "@jupyter-widgets/base",
            "_model_module_version": "1.2.0",
            "_model_name": "LayoutModel",
            "_view_count": null,
            "_view_module": "@jupyter-widgets/base",
            "_view_module_version": "1.2.0",
            "_view_name": "LayoutView",
            "align_content": null,
            "align_items": null,
            "align_self": null,
            "border": null,
            "bottom": null,
            "display": null,
            "flex": null,
            "flex_flow": null,
            "grid_area": null,
            "grid_auto_columns": null,
            "grid_auto_flow": null,
            "grid_auto_rows": null,
            "grid_column": null,
            "grid_gap": null,
            "grid_row": null,
            "grid_template_areas": null,
            "grid_template_columns": null,
            "grid_template_rows": null,
            "height": null,
            "justify_content": null,
            "justify_items": null,
            "left": null,
            "margin": null,
            "max_height": null,
            "max_width": null,
            "min_height": null,
            "min_width": null,
            "object_fit": null,
            "object_position": null,
            "order": null,
            "overflow": null,
            "overflow_x": null,
            "overflow_y": null,
            "padding": null,
            "right": null,
            "top": null,
            "visibility": null,
            "width": null
          }
        },
        "52fccd21df2d4c848439875d35853635": {
          "model_module": "@jupyter-widgets/controls",
          "model_name": "ProgressStyleModel",
          "model_module_version": "1.5.0",
          "state": {
            "_model_module": "@jupyter-widgets/controls",
            "_model_module_version": "1.5.0",
            "_model_name": "ProgressStyleModel",
            "_view_count": null,
            "_view_module": "@jupyter-widgets/base",
            "_view_module_version": "1.2.0",
            "_view_name": "StyleView",
            "bar_color": null,
            "description_width": ""
          }
        },
        "b91c91ad60cb490393990312fade2f14": {
          "model_module": "@jupyter-widgets/base",
          "model_name": "LayoutModel",
          "model_module_version": "1.2.0",
          "state": {
            "_model_module": "@jupyter-widgets/base",
            "_model_module_version": "1.2.0",
            "_model_name": "LayoutModel",
            "_view_count": null,
            "_view_module": "@jupyter-widgets/base",
            "_view_module_version": "1.2.0",
            "_view_name": "LayoutView",
            "align_content": null,
            "align_items": null,
            "align_self": null,
            "border": null,
            "bottom": null,
            "display": null,
            "flex": null,
            "flex_flow": null,
            "grid_area": null,
            "grid_auto_columns": null,
            "grid_auto_flow": null,
            "grid_auto_rows": null,
            "grid_column": null,
            "grid_gap": null,
            "grid_row": null,
            "grid_template_areas": null,
            "grid_template_columns": null,
            "grid_template_rows": null,
            "height": null,
            "justify_content": null,
            "justify_items": null,
            "left": null,
            "margin": null,
            "max_height": null,
            "max_width": null,
            "min_height": null,
            "min_width": null,
            "object_fit": null,
            "object_position": null,
            "order": null,
            "overflow": null,
            "overflow_x": null,
            "overflow_y": null,
            "padding": null,
            "right": null,
            "top": null,
            "visibility": null,
            "width": null
          }
        },
        "ba99abde36ef4cb09520bcac91d947e6": {
          "model_module": "@jupyter-widgets/controls",
          "model_name": "DescriptionStyleModel",
          "model_module_version": "1.5.0",
          "state": {
            "_model_module": "@jupyter-widgets/controls",
            "_model_module_version": "1.5.0",
            "_model_name": "DescriptionStyleModel",
            "_view_count": null,
            "_view_module": "@jupyter-widgets/base",
            "_view_module_version": "1.2.0",
            "_view_name": "StyleView",
            "description_width": ""
          }
        },
        "a2c9e654ff7e45deba1326a187fb4ad8": {
          "model_module": "@jupyter-widgets/controls",
          "model_name": "HBoxModel",
          "model_module_version": "1.5.0",
          "state": {
            "_dom_classes": [],
            "_model_module": "@jupyter-widgets/controls",
            "_model_module_version": "1.5.0",
            "_model_name": "HBoxModel",
            "_view_count": null,
            "_view_module": "@jupyter-widgets/controls",
            "_view_module_version": "1.5.0",
            "_view_name": "HBoxView",
            "box_style": "",
            "children": [
              "IPY_MODEL_0cb583af8e6e458bb2f558204981f5ac",
              "IPY_MODEL_9a18c316d7ec49039383009142fd1311",
              "IPY_MODEL_2749ce3184174ad4ad867b3e56491d2c"
            ],
            "layout": "IPY_MODEL_d8171d555c6a45038ecccbba9eeff02a"
          }
        },
        "0cb583af8e6e458bb2f558204981f5ac": {
          "model_module": "@jupyter-widgets/controls",
          "model_name": "HTMLModel",
          "model_module_version": "1.5.0",
          "state": {
            "_dom_classes": [],
            "_model_module": "@jupyter-widgets/controls",
            "_model_module_version": "1.5.0",
            "_model_name": "HTMLModel",
            "_view_count": null,
            "_view_module": "@jupyter-widgets/controls",
            "_view_module_version": "1.5.0",
            "_view_name": "HTMLView",
            "description": "",
            "description_tooltip": null,
            "layout": "IPY_MODEL_c4a46d2b284a4310b028dae477779afe",
            "placeholder": "​",
            "style": "IPY_MODEL_cbf08f40e87f4867b6e803c14d9b2b75",
            "value": "Iteration: 100%"
          }
        },
        "9a18c316d7ec49039383009142fd1311": {
          "model_module": "@jupyter-widgets/controls",
          "model_name": "FloatProgressModel",
          "model_module_version": "1.5.0",
          "state": {
            "_dom_classes": [],
            "_model_module": "@jupyter-widgets/controls",
            "_model_module_version": "1.5.0",
            "_model_name": "FloatProgressModel",
            "_view_count": null,
            "_view_module": "@jupyter-widgets/controls",
            "_view_module_version": "1.5.0",
            "_view_name": "ProgressView",
            "bar_style": "success",
            "description": "",
            "description_tooltip": null,
            "layout": "IPY_MODEL_c9a454458e0442ef81d2c0773364f8da",
            "max": 1,
            "min": 0,
            "orientation": "horizontal",
            "style": "IPY_MODEL_3cc665dc5ecb438faec21ea8a463bec3",
            "value": 1
          }
        },
        "2749ce3184174ad4ad867b3e56491d2c": {
          "model_module": "@jupyter-widgets/controls",
          "model_name": "HTMLModel",
          "model_module_version": "1.5.0",
          "state": {
            "_dom_classes": [],
            "_model_module": "@jupyter-widgets/controls",
            "_model_module_version": "1.5.0",
            "_model_name": "HTMLModel",
            "_view_count": null,
            "_view_module": "@jupyter-widgets/controls",
            "_view_module_version": "1.5.0",
            "_view_name": "HTMLView",
            "description": "",
            "description_tooltip": null,
            "layout": "IPY_MODEL_4f7f0c98ec8f412b81dfcba2f53c6e18",
            "placeholder": "​",
            "style": "IPY_MODEL_c446dc36b3fe46629c5ff7ba29eb3413",
            "value": " 1/1 [00:27&lt;00:00, 27.27s/it]"
          }
        },
        "d8171d555c6a45038ecccbba9eeff02a": {
          "model_module": "@jupyter-widgets/base",
          "model_name": "LayoutModel",
          "model_module_version": "1.2.0",
          "state": {
            "_model_module": "@jupyter-widgets/base",
            "_model_module_version": "1.2.0",
            "_model_name": "LayoutModel",
            "_view_count": null,
            "_view_module": "@jupyter-widgets/base",
            "_view_module_version": "1.2.0",
            "_view_name": "LayoutView",
            "align_content": null,
            "align_items": null,
            "align_self": null,
            "border": null,
            "bottom": null,
            "display": null,
            "flex": null,
            "flex_flow": null,
            "grid_area": null,
            "grid_auto_columns": null,
            "grid_auto_flow": null,
            "grid_auto_rows": null,
            "grid_column": null,
            "grid_gap": null,
            "grid_row": null,
            "grid_template_areas": null,
            "grid_template_columns": null,
            "grid_template_rows": null,
            "height": null,
            "justify_content": null,
            "justify_items": null,
            "left": null,
            "margin": null,
            "max_height": null,
            "max_width": null,
            "min_height": null,
            "min_width": null,
            "object_fit": null,
            "object_position": null,
            "order": null,
            "overflow": null,
            "overflow_x": null,
            "overflow_y": null,
            "padding": null,
            "right": null,
            "top": null,
            "visibility": null,
            "width": null
          }
        },
        "c4a46d2b284a4310b028dae477779afe": {
          "model_module": "@jupyter-widgets/base",
          "model_name": "LayoutModel",
          "model_module_version": "1.2.0",
          "state": {
            "_model_module": "@jupyter-widgets/base",
            "_model_module_version": "1.2.0",
            "_model_name": "LayoutModel",
            "_view_count": null,
            "_view_module": "@jupyter-widgets/base",
            "_view_module_version": "1.2.0",
            "_view_name": "LayoutView",
            "align_content": null,
            "align_items": null,
            "align_self": null,
            "border": null,
            "bottom": null,
            "display": null,
            "flex": null,
            "flex_flow": null,
            "grid_area": null,
            "grid_auto_columns": null,
            "grid_auto_flow": null,
            "grid_auto_rows": null,
            "grid_column": null,
            "grid_gap": null,
            "grid_row": null,
            "grid_template_areas": null,
            "grid_template_columns": null,
            "grid_template_rows": null,
            "height": null,
            "justify_content": null,
            "justify_items": null,
            "left": null,
            "margin": null,
            "max_height": null,
            "max_width": null,
            "min_height": null,
            "min_width": null,
            "object_fit": null,
            "object_position": null,
            "order": null,
            "overflow": null,
            "overflow_x": null,
            "overflow_y": null,
            "padding": null,
            "right": null,
            "top": null,
            "visibility": null,
            "width": null
          }
        },
        "cbf08f40e87f4867b6e803c14d9b2b75": {
          "model_module": "@jupyter-widgets/controls",
          "model_name": "DescriptionStyleModel",
          "model_module_version": "1.5.0",
          "state": {
            "_model_module": "@jupyter-widgets/controls",
            "_model_module_version": "1.5.0",
            "_model_name": "DescriptionStyleModel",
            "_view_count": null,
            "_view_module": "@jupyter-widgets/base",
            "_view_module_version": "1.2.0",
            "_view_name": "StyleView",
            "description_width": ""
          }
        },
        "c9a454458e0442ef81d2c0773364f8da": {
          "model_module": "@jupyter-widgets/base",
          "model_name": "LayoutModel",
          "model_module_version": "1.2.0",
          "state": {
            "_model_module": "@jupyter-widgets/base",
            "_model_module_version": "1.2.0",
            "_model_name": "LayoutModel",
            "_view_count": null,
            "_view_module": "@jupyter-widgets/base",
            "_view_module_version": "1.2.0",
            "_view_name": "LayoutView",
            "align_content": null,
            "align_items": null,
            "align_self": null,
            "border": null,
            "bottom": null,
            "display": null,
            "flex": null,
            "flex_flow": null,
            "grid_area": null,
            "grid_auto_columns": null,
            "grid_auto_flow": null,
            "grid_auto_rows": null,
            "grid_column": null,
            "grid_gap": null,
            "grid_row": null,
            "grid_template_areas": null,
            "grid_template_columns": null,
            "grid_template_rows": null,
            "height": null,
            "justify_content": null,
            "justify_items": null,
            "left": null,
            "margin": null,
            "max_height": null,
            "max_width": null,
            "min_height": null,
            "min_width": null,
            "object_fit": null,
            "object_position": null,
            "order": null,
            "overflow": null,
            "overflow_x": null,
            "overflow_y": null,
            "padding": null,
            "right": null,
            "top": null,
            "visibility": null,
            "width": null
          }
        },
        "3cc665dc5ecb438faec21ea8a463bec3": {
          "model_module": "@jupyter-widgets/controls",
          "model_name": "ProgressStyleModel",
          "model_module_version": "1.5.0",
          "state": {
            "_model_module": "@jupyter-widgets/controls",
            "_model_module_version": "1.5.0",
            "_model_name": "ProgressStyleModel",
            "_view_count": null,
            "_view_module": "@jupyter-widgets/base",
            "_view_module_version": "1.2.0",
            "_view_name": "StyleView",
            "bar_color": null,
            "description_width": ""
          }
        },
        "4f7f0c98ec8f412b81dfcba2f53c6e18": {
          "model_module": "@jupyter-widgets/base",
          "model_name": "LayoutModel",
          "model_module_version": "1.2.0",
          "state": {
            "_model_module": "@jupyter-widgets/base",
            "_model_module_version": "1.2.0",
            "_model_name": "LayoutModel",
            "_view_count": null,
            "_view_module": "@jupyter-widgets/base",
            "_view_module_version": "1.2.0",
            "_view_name": "LayoutView",
            "align_content": null,
            "align_items": null,
            "align_self": null,
            "border": null,
            "bottom": null,
            "display": null,
            "flex": null,
            "flex_flow": null,
            "grid_area": null,
            "grid_auto_columns": null,
            "grid_auto_flow": null,
            "grid_auto_rows": null,
            "grid_column": null,
            "grid_gap": null,
            "grid_row": null,
            "grid_template_areas": null,
            "grid_template_columns": null,
            "grid_template_rows": null,
            "height": null,
            "justify_content": null,
            "justify_items": null,
            "left": null,
            "margin": null,
            "max_height": null,
            "max_width": null,
            "min_height": null,
            "min_width": null,
            "object_fit": null,
            "object_position": null,
            "order": null,
            "overflow": null,
            "overflow_x": null,
            "overflow_y": null,
            "padding": null,
            "right": null,
            "top": null,
            "visibility": null,
            "width": null
          }
        },
        "c446dc36b3fe46629c5ff7ba29eb3413": {
          "model_module": "@jupyter-widgets/controls",
          "model_name": "DescriptionStyleModel",
          "model_module_version": "1.5.0",
          "state": {
            "_model_module": "@jupyter-widgets/controls",
            "_model_module_version": "1.5.0",
            "_model_name": "DescriptionStyleModel",
            "_view_count": null,
            "_view_module": "@jupyter-widgets/base",
            "_view_module_version": "1.2.0",
            "_view_name": "StyleView",
            "description_width": ""
          }
        },
        "a19bc9b7b11b4645b2b735ee2735d700": {
          "model_module": "@jupyter-widgets/controls",
          "model_name": "HBoxModel",
          "model_module_version": "1.5.0",
          "state": {
            "_dom_classes": [],
            "_model_module": "@jupyter-widgets/controls",
            "_model_module_version": "1.5.0",
            "_model_name": "HBoxModel",
            "_view_count": null,
            "_view_module": "@jupyter-widgets/controls",
            "_view_module_version": "1.5.0",
            "_view_name": "HBoxView",
            "box_style": "",
            "children": [
              "IPY_MODEL_7396ec2086eb435c9c43dc2dbabd3075",
              "IPY_MODEL_d900931b547842768cea863225d6b9fd",
              "IPY_MODEL_da44e7b0c1b14757969a8fd3b5cc70a8"
            ],
            "layout": "IPY_MODEL_e907f6a9242746d7bee69ad3e4e3a2b3"
          }
        },
        "7396ec2086eb435c9c43dc2dbabd3075": {
          "model_module": "@jupyter-widgets/controls",
          "model_name": "HTMLModel",
          "model_module_version": "1.5.0",
          "state": {
            "_dom_classes": [],
            "_model_module": "@jupyter-widgets/controls",
            "_model_module_version": "1.5.0",
            "_model_name": "HTMLModel",
            "_view_count": null,
            "_view_module": "@jupyter-widgets/controls",
            "_view_module_version": "1.5.0",
            "_view_name": "HTMLView",
            "description": "",
            "description_tooltip": null,
            "layout": "IPY_MODEL_224403a0cde5423c89574cdfaa49f581",
            "placeholder": "​",
            "style": "IPY_MODEL_0b4caeb7d03d4f858df8ce54e83911d4",
            "value": "Iteration: 100%"
          }
        },
        "d900931b547842768cea863225d6b9fd": {
          "model_module": "@jupyter-widgets/controls",
          "model_name": "FloatProgressModel",
          "model_module_version": "1.5.0",
          "state": {
            "_dom_classes": [],
            "_model_module": "@jupyter-widgets/controls",
            "_model_module_version": "1.5.0",
            "_model_name": "FloatProgressModel",
            "_view_count": null,
            "_view_module": "@jupyter-widgets/controls",
            "_view_module_version": "1.5.0",
            "_view_name": "ProgressView",
            "bar_style": "success",
            "description": "",
            "description_tooltip": null,
            "layout": "IPY_MODEL_07dba58ab66548119410566306439d7d",
            "max": 1,
            "min": 0,
            "orientation": "horizontal",
            "style": "IPY_MODEL_a5e7e7e9276b4a46b613e77d9dc97eb7",
            "value": 1
          }
        },
        "da44e7b0c1b14757969a8fd3b5cc70a8": {
          "model_module": "@jupyter-widgets/controls",
          "model_name": "HTMLModel",
          "model_module_version": "1.5.0",
          "state": {
            "_dom_classes": [],
            "_model_module": "@jupyter-widgets/controls",
            "_model_module_version": "1.5.0",
            "_model_name": "HTMLModel",
            "_view_count": null,
            "_view_module": "@jupyter-widgets/controls",
            "_view_module_version": "1.5.0",
            "_view_name": "HTMLView",
            "description": "",
            "description_tooltip": null,
            "layout": "IPY_MODEL_c210dfcd46cd49ceb4d39efebf8e54e4",
            "placeholder": "​",
            "style": "IPY_MODEL_3651bfeb67bc4beeacb9624491076cde",
            "value": " 1/1 [00:25&lt;00:00, 25.61s/it]"
          }
        },
        "e907f6a9242746d7bee69ad3e4e3a2b3": {
          "model_module": "@jupyter-widgets/base",
          "model_name": "LayoutModel",
          "model_module_version": "1.2.0",
          "state": {
            "_model_module": "@jupyter-widgets/base",
            "_model_module_version": "1.2.0",
            "_model_name": "LayoutModel",
            "_view_count": null,
            "_view_module": "@jupyter-widgets/base",
            "_view_module_version": "1.2.0",
            "_view_name": "LayoutView",
            "align_content": null,
            "align_items": null,
            "align_self": null,
            "border": null,
            "bottom": null,
            "display": null,
            "flex": null,
            "flex_flow": null,
            "grid_area": null,
            "grid_auto_columns": null,
            "grid_auto_flow": null,
            "grid_auto_rows": null,
            "grid_column": null,
            "grid_gap": null,
            "grid_row": null,
            "grid_template_areas": null,
            "grid_template_columns": null,
            "grid_template_rows": null,
            "height": null,
            "justify_content": null,
            "justify_items": null,
            "left": null,
            "margin": null,
            "max_height": null,
            "max_width": null,
            "min_height": null,
            "min_width": null,
            "object_fit": null,
            "object_position": null,
            "order": null,
            "overflow": null,
            "overflow_x": null,
            "overflow_y": null,
            "padding": null,
            "right": null,
            "top": null,
            "visibility": null,
            "width": null
          }
        },
        "224403a0cde5423c89574cdfaa49f581": {
          "model_module": "@jupyter-widgets/base",
          "model_name": "LayoutModel",
          "model_module_version": "1.2.0",
          "state": {
            "_model_module": "@jupyter-widgets/base",
            "_model_module_version": "1.2.0",
            "_model_name": "LayoutModel",
            "_view_count": null,
            "_view_module": "@jupyter-widgets/base",
            "_view_module_version": "1.2.0",
            "_view_name": "LayoutView",
            "align_content": null,
            "align_items": null,
            "align_self": null,
            "border": null,
            "bottom": null,
            "display": null,
            "flex": null,
            "flex_flow": null,
            "grid_area": null,
            "grid_auto_columns": null,
            "grid_auto_flow": null,
            "grid_auto_rows": null,
            "grid_column": null,
            "grid_gap": null,
            "grid_row": null,
            "grid_template_areas": null,
            "grid_template_columns": null,
            "grid_template_rows": null,
            "height": null,
            "justify_content": null,
            "justify_items": null,
            "left": null,
            "margin": null,
            "max_height": null,
            "max_width": null,
            "min_height": null,
            "min_width": null,
            "object_fit": null,
            "object_position": null,
            "order": null,
            "overflow": null,
            "overflow_x": null,
            "overflow_y": null,
            "padding": null,
            "right": null,
            "top": null,
            "visibility": null,
            "width": null
          }
        },
        "0b4caeb7d03d4f858df8ce54e83911d4": {
          "model_module": "@jupyter-widgets/controls",
          "model_name": "DescriptionStyleModel",
          "model_module_version": "1.5.0",
          "state": {
            "_model_module": "@jupyter-widgets/controls",
            "_model_module_version": "1.5.0",
            "_model_name": "DescriptionStyleModel",
            "_view_count": null,
            "_view_module": "@jupyter-widgets/base",
            "_view_module_version": "1.2.0",
            "_view_name": "StyleView",
            "description_width": ""
          }
        },
        "07dba58ab66548119410566306439d7d": {
          "model_module": "@jupyter-widgets/base",
          "model_name": "LayoutModel",
          "model_module_version": "1.2.0",
          "state": {
            "_model_module": "@jupyter-widgets/base",
            "_model_module_version": "1.2.0",
            "_model_name": "LayoutModel",
            "_view_count": null,
            "_view_module": "@jupyter-widgets/base",
            "_view_module_version": "1.2.0",
            "_view_name": "LayoutView",
            "align_content": null,
            "align_items": null,
            "align_self": null,
            "border": null,
            "bottom": null,
            "display": null,
            "flex": null,
            "flex_flow": null,
            "grid_area": null,
            "grid_auto_columns": null,
            "grid_auto_flow": null,
            "grid_auto_rows": null,
            "grid_column": null,
            "grid_gap": null,
            "grid_row": null,
            "grid_template_areas": null,
            "grid_template_columns": null,
            "grid_template_rows": null,
            "height": null,
            "justify_content": null,
            "justify_items": null,
            "left": null,
            "margin": null,
            "max_height": null,
            "max_width": null,
            "min_height": null,
            "min_width": null,
            "object_fit": null,
            "object_position": null,
            "order": null,
            "overflow": null,
            "overflow_x": null,
            "overflow_y": null,
            "padding": null,
            "right": null,
            "top": null,
            "visibility": null,
            "width": null
          }
        },
        "a5e7e7e9276b4a46b613e77d9dc97eb7": {
          "model_module": "@jupyter-widgets/controls",
          "model_name": "ProgressStyleModel",
          "model_module_version": "1.5.0",
          "state": {
            "_model_module": "@jupyter-widgets/controls",
            "_model_module_version": "1.5.0",
            "_model_name": "ProgressStyleModel",
            "_view_count": null,
            "_view_module": "@jupyter-widgets/base",
            "_view_module_version": "1.2.0",
            "_view_name": "StyleView",
            "bar_color": null,
            "description_width": ""
          }
        },
        "c210dfcd46cd49ceb4d39efebf8e54e4": {
          "model_module": "@jupyter-widgets/base",
          "model_name": "LayoutModel",
          "model_module_version": "1.2.0",
          "state": {
            "_model_module": "@jupyter-widgets/base",
            "_model_module_version": "1.2.0",
            "_model_name": "LayoutModel",
            "_view_count": null,
            "_view_module": "@jupyter-widgets/base",
            "_view_module_version": "1.2.0",
            "_view_name": "LayoutView",
            "align_content": null,
            "align_items": null,
            "align_self": null,
            "border": null,
            "bottom": null,
            "display": null,
            "flex": null,
            "flex_flow": null,
            "grid_area": null,
            "grid_auto_columns": null,
            "grid_auto_flow": null,
            "grid_auto_rows": null,
            "grid_column": null,
            "grid_gap": null,
            "grid_row": null,
            "grid_template_areas": null,
            "grid_template_columns": null,
            "grid_template_rows": null,
            "height": null,
            "justify_content": null,
            "justify_items": null,
            "left": null,
            "margin": null,
            "max_height": null,
            "max_width": null,
            "min_height": null,
            "min_width": null,
            "object_fit": null,
            "object_position": null,
            "order": null,
            "overflow": null,
            "overflow_x": null,
            "overflow_y": null,
            "padding": null,
            "right": null,
            "top": null,
            "visibility": null,
            "width": null
          }
        },
        "3651bfeb67bc4beeacb9624491076cde": {
          "model_module": "@jupyter-widgets/controls",
          "model_name": "DescriptionStyleModel",
          "model_module_version": "1.5.0",
          "state": {
            "_model_module": "@jupyter-widgets/controls",
            "_model_module_version": "1.5.0",
            "_model_name": "DescriptionStyleModel",
            "_view_count": null,
            "_view_module": "@jupyter-widgets/base",
            "_view_module_version": "1.2.0",
            "_view_name": "StyleView",
            "description_width": ""
          }
        },
        "e6216038ae874b58a88bd0d3cecb2d38": {
          "model_module": "@jupyter-widgets/controls",
          "model_name": "HBoxModel",
          "model_module_version": "1.5.0",
          "state": {
            "_dom_classes": [],
            "_model_module": "@jupyter-widgets/controls",
            "_model_module_version": "1.5.0",
            "_model_name": "HBoxModel",
            "_view_count": null,
            "_view_module": "@jupyter-widgets/controls",
            "_view_module_version": "1.5.0",
            "_view_name": "HBoxView",
            "box_style": "",
            "children": [
              "IPY_MODEL_965c8f166144426d86aa612f98b9d709",
              "IPY_MODEL_a67f7de164474394ace171217a7db027",
              "IPY_MODEL_29dcf9eebb4a4c3b90e50a86388b9020"
            ],
            "layout": "IPY_MODEL_67a348aecb0140b39e15a0edc5015440"
          }
        },
        "965c8f166144426d86aa612f98b9d709": {
          "model_module": "@jupyter-widgets/controls",
          "model_name": "HTMLModel",
          "model_module_version": "1.5.0",
          "state": {
            "_dom_classes": [],
            "_model_module": "@jupyter-widgets/controls",
            "_model_module_version": "1.5.0",
            "_model_name": "HTMLModel",
            "_view_count": null,
            "_view_module": "@jupyter-widgets/controls",
            "_view_module_version": "1.5.0",
            "_view_name": "HTMLView",
            "description": "",
            "description_tooltip": null,
            "layout": "IPY_MODEL_ef1cd10200714dcabc94522f20286aa4",
            "placeholder": "​",
            "style": "IPY_MODEL_8c99ba54e3fd45d18a6b7ccf5e34900e",
            "value": "Evaluating: 100%"
          }
        },
        "a67f7de164474394ace171217a7db027": {
          "model_module": "@jupyter-widgets/controls",
          "model_name": "FloatProgressModel",
          "model_module_version": "1.5.0",
          "state": {
            "_dom_classes": [],
            "_model_module": "@jupyter-widgets/controls",
            "_model_module_version": "1.5.0",
            "_model_name": "FloatProgressModel",
            "_view_count": null,
            "_view_module": "@jupyter-widgets/controls",
            "_view_module_version": "1.5.0",
            "_view_name": "ProgressView",
            "bar_style": "success",
            "description": "",
            "description_tooltip": null,
            "layout": "IPY_MODEL_72334c8786464979a38f477cce5cdfad",
            "max": 1,
            "min": 0,
            "orientation": "horizontal",
            "style": "IPY_MODEL_386bb2667e5b4b88b2b3d0ca8471389a",
            "value": 1
          }
        },
        "29dcf9eebb4a4c3b90e50a86388b9020": {
          "model_module": "@jupyter-widgets/controls",
          "model_name": "HTMLModel",
          "model_module_version": "1.5.0",
          "state": {
            "_dom_classes": [],
            "_model_module": "@jupyter-widgets/controls",
            "_model_module_version": "1.5.0",
            "_model_name": "HTMLModel",
            "_view_count": null,
            "_view_module": "@jupyter-widgets/controls",
            "_view_module_version": "1.5.0",
            "_view_name": "HTMLView",
            "description": "",
            "description_tooltip": null,
            "layout": "IPY_MODEL_d0673ccbe55e4cbdb7797652a983212f",
            "placeholder": "​",
            "style": "IPY_MODEL_baae55062ffb4b928562c6b8938e6bb5",
            "value": " 1/1 [00:01&lt;00:00,  1.96s/it]"
          }
        },
        "67a348aecb0140b39e15a0edc5015440": {
          "model_module": "@jupyter-widgets/base",
          "model_name": "LayoutModel",
          "model_module_version": "1.2.0",
          "state": {
            "_model_module": "@jupyter-widgets/base",
            "_model_module_version": "1.2.0",
            "_model_name": "LayoutModel",
            "_view_count": null,
            "_view_module": "@jupyter-widgets/base",
            "_view_module_version": "1.2.0",
            "_view_name": "LayoutView",
            "align_content": null,
            "align_items": null,
            "align_self": null,
            "border": null,
            "bottom": null,
            "display": null,
            "flex": null,
            "flex_flow": null,
            "grid_area": null,
            "grid_auto_columns": null,
            "grid_auto_flow": null,
            "grid_auto_rows": null,
            "grid_column": null,
            "grid_gap": null,
            "grid_row": null,
            "grid_template_areas": null,
            "grid_template_columns": null,
            "grid_template_rows": null,
            "height": null,
            "justify_content": null,
            "justify_items": null,
            "left": null,
            "margin": null,
            "max_height": null,
            "max_width": null,
            "min_height": null,
            "min_width": null,
            "object_fit": null,
            "object_position": null,
            "order": null,
            "overflow": null,
            "overflow_x": null,
            "overflow_y": null,
            "padding": null,
            "right": null,
            "top": null,
            "visibility": null,
            "width": null
          }
        },
        "ef1cd10200714dcabc94522f20286aa4": {
          "model_module": "@jupyter-widgets/base",
          "model_name": "LayoutModel",
          "model_module_version": "1.2.0",
          "state": {
            "_model_module": "@jupyter-widgets/base",
            "_model_module_version": "1.2.0",
            "_model_name": "LayoutModel",
            "_view_count": null,
            "_view_module": "@jupyter-widgets/base",
            "_view_module_version": "1.2.0",
            "_view_name": "LayoutView",
            "align_content": null,
            "align_items": null,
            "align_self": null,
            "border": null,
            "bottom": null,
            "display": null,
            "flex": null,
            "flex_flow": null,
            "grid_area": null,
            "grid_auto_columns": null,
            "grid_auto_flow": null,
            "grid_auto_rows": null,
            "grid_column": null,
            "grid_gap": null,
            "grid_row": null,
            "grid_template_areas": null,
            "grid_template_columns": null,
            "grid_template_rows": null,
            "height": null,
            "justify_content": null,
            "justify_items": null,
            "left": null,
            "margin": null,
            "max_height": null,
            "max_width": null,
            "min_height": null,
            "min_width": null,
            "object_fit": null,
            "object_position": null,
            "order": null,
            "overflow": null,
            "overflow_x": null,
            "overflow_y": null,
            "padding": null,
            "right": null,
            "top": null,
            "visibility": null,
            "width": null
          }
        },
        "8c99ba54e3fd45d18a6b7ccf5e34900e": {
          "model_module": "@jupyter-widgets/controls",
          "model_name": "DescriptionStyleModel",
          "model_module_version": "1.5.0",
          "state": {
            "_model_module": "@jupyter-widgets/controls",
            "_model_module_version": "1.5.0",
            "_model_name": "DescriptionStyleModel",
            "_view_count": null,
            "_view_module": "@jupyter-widgets/base",
            "_view_module_version": "1.2.0",
            "_view_name": "StyleView",
            "description_width": ""
          }
        },
        "72334c8786464979a38f477cce5cdfad": {
          "model_module": "@jupyter-widgets/base",
          "model_name": "LayoutModel",
          "model_module_version": "1.2.0",
          "state": {
            "_model_module": "@jupyter-widgets/base",
            "_model_module_version": "1.2.0",
            "_model_name": "LayoutModel",
            "_view_count": null,
            "_view_module": "@jupyter-widgets/base",
            "_view_module_version": "1.2.0",
            "_view_name": "LayoutView",
            "align_content": null,
            "align_items": null,
            "align_self": null,
            "border": null,
            "bottom": null,
            "display": null,
            "flex": null,
            "flex_flow": null,
            "grid_area": null,
            "grid_auto_columns": null,
            "grid_auto_flow": null,
            "grid_auto_rows": null,
            "grid_column": null,
            "grid_gap": null,
            "grid_row": null,
            "grid_template_areas": null,
            "grid_template_columns": null,
            "grid_template_rows": null,
            "height": null,
            "justify_content": null,
            "justify_items": null,
            "left": null,
            "margin": null,
            "max_height": null,
            "max_width": null,
            "min_height": null,
            "min_width": null,
            "object_fit": null,
            "object_position": null,
            "order": null,
            "overflow": null,
            "overflow_x": null,
            "overflow_y": null,
            "padding": null,
            "right": null,
            "top": null,
            "visibility": null,
            "width": null
          }
        },
        "386bb2667e5b4b88b2b3d0ca8471389a": {
          "model_module": "@jupyter-widgets/controls",
          "model_name": "ProgressStyleModel",
          "model_module_version": "1.5.0",
          "state": {
            "_model_module": "@jupyter-widgets/controls",
            "_model_module_version": "1.5.0",
            "_model_name": "ProgressStyleModel",
            "_view_count": null,
            "_view_module": "@jupyter-widgets/base",
            "_view_module_version": "1.2.0",
            "_view_name": "StyleView",
            "bar_color": null,
            "description_width": ""
          }
        },
        "d0673ccbe55e4cbdb7797652a983212f": {
          "model_module": "@jupyter-widgets/base",
          "model_name": "LayoutModel",
          "model_module_version": "1.2.0",
          "state": {
            "_model_module": "@jupyter-widgets/base",
            "_model_module_version": "1.2.0",
            "_model_name": "LayoutModel",
            "_view_count": null,
            "_view_module": "@jupyter-widgets/base",
            "_view_module_version": "1.2.0",
            "_view_name": "LayoutView",
            "align_content": null,
            "align_items": null,
            "align_self": null,
            "border": null,
            "bottom": null,
            "display": null,
            "flex": null,
            "flex_flow": null,
            "grid_area": null,
            "grid_auto_columns": null,
            "grid_auto_flow": null,
            "grid_auto_rows": null,
            "grid_column": null,
            "grid_gap": null,
            "grid_row": null,
            "grid_template_areas": null,
            "grid_template_columns": null,
            "grid_template_rows": null,
            "height": null,
            "justify_content": null,
            "justify_items": null,
            "left": null,
            "margin": null,
            "max_height": null,
            "max_width": null,
            "min_height": null,
            "min_width": null,
            "object_fit": null,
            "object_position": null,
            "order": null,
            "overflow": null,
            "overflow_x": null,
            "overflow_y": null,
            "padding": null,
            "right": null,
            "top": null,
            "visibility": null,
            "width": null
          }
        },
        "baae55062ffb4b928562c6b8938e6bb5": {
          "model_module": "@jupyter-widgets/controls",
          "model_name": "DescriptionStyleModel",
          "model_module_version": "1.5.0",
          "state": {
            "_model_module": "@jupyter-widgets/controls",
            "_model_module_version": "1.5.0",
            "_model_name": "DescriptionStyleModel",
            "_view_count": null,
            "_view_module": "@jupyter-widgets/base",
            "_view_module_version": "1.2.0",
            "_view_name": "StyleView",
            "description_width": ""
          }
        }
      }
    },
    "gpuClass": "standard"
  },
  "nbformat": 4,
  "nbformat_minor": 0
}